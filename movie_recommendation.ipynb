{
 "cells": [
  {
   "cell_type": "code",
   "execution_count": null,
   "id": "07fccb11-acd0-4ae7-a79a-062422ac6139",
   "metadata": {},
   "outputs": [],
   "source": [
    "import pandas as pd\n",
    "from sklearn.feature_extraction.text import TfidfVectorizer\n",
    "from sklearn.metrics.pairwise import linear_kernel"
   ]
  },
  {
   "cell_type": "code",
   "execution_count": null,
   "id": "a3451e16-235b-4640-99ca-34225b271fa4",
   "metadata": {},
   "outputs": [],
   "source": [
    "# Load dataset\n",
    "df = pd.read_csv(\"TMDB_IMDB_movies.csv\")"
   ]
  },
  {
   "cell_type": "code",
   "execution_count": 24,
   "id": "f794183f-f9ee-49ee-9b9d-cefdb9156513",
   "metadata": {},
   "outputs": [],
   "source": [
    "# test = pd.read_csv(\"TMDB_IMDB_movies.csv\")\n",
    "# test.shape"
   ]
  },
  {
   "cell_type": "code",
   "execution_count": 25,
   "id": "03550d5e-02f1-42f1-95fe-70d2347f3fc6",
   "metadata": {},
   "outputs": [],
   "source": [
    "# Clean & Filter\n",
    "df['popularity'] = pd.to_numeric(df['popularity'], errors='coerce') \n",
    "df.dropna(subset=['popularity'], inplace=True)  \n",
    "\n",
    "# Filter movies based on your conditions\n",
    "df = df[(df['popularity'] >= 10) & (df['vote_average'] >= 6.5) & (df['vote_count'] >= 100)] "
   ]
  },
  {
   "cell_type": "code",
   "execution_count": 26,
   "id": "0e0ef262-256b-46d2-9d1c-ebfa12cf8ca8",
   "metadata": {},
   "outputs": [
    {
     "data": {
      "text/plain": [
       "(6672, 29)"
      ]
     },
     "execution_count": 26,
     "metadata": {},
     "output_type": "execute_result"
    }
   ],
   "source": [
    "df.shape"
   ]
  },
  {
   "cell_type": "code",
   "execution_count": 27,
   "id": "502b3ef9-3e52-4723-bc18-fc63eafbbffe",
   "metadata": {},
   "outputs": [
    {
     "data": {
      "text/html": [
       "<div>\n",
       "<style scoped>\n",
       "    .dataframe tbody tr th:only-of-type {\n",
       "        vertical-align: middle;\n",
       "    }\n",
       "\n",
       "    .dataframe tbody tr th {\n",
       "        vertical-align: top;\n",
       "    }\n",
       "\n",
       "    .dataframe thead th {\n",
       "        text-align: right;\n",
       "    }\n",
       "</style>\n",
       "<table border=\"1\" class=\"dataframe\">\n",
       "  <thead>\n",
       "    <tr style=\"text-align: right;\">\n",
       "      <th></th>\n",
       "      <th>id</th>\n",
       "      <th>title</th>\n",
       "      <th>vote_average</th>\n",
       "      <th>vote_count</th>\n",
       "      <th>status</th>\n",
       "      <th>release_date</th>\n",
       "      <th>revenue</th>\n",
       "      <th>runtime</th>\n",
       "      <th>adult</th>\n",
       "      <th>backdrop_path</th>\n",
       "      <th>...</th>\n",
       "      <th>genres</th>\n",
       "      <th>production_companies</th>\n",
       "      <th>production_countries</th>\n",
       "      <th>spoken_languages</th>\n",
       "      <th>keywords</th>\n",
       "      <th>directors</th>\n",
       "      <th>writers</th>\n",
       "      <th>averageRating</th>\n",
       "      <th>numVotes</th>\n",
       "      <th>cast</th>\n",
       "    </tr>\n",
       "  </thead>\n",
       "  <tbody>\n",
       "    <tr>\n",
       "      <th>0</th>\n",
       "      <td>27205</td>\n",
       "      <td>Inception</td>\n",
       "      <td>8.364</td>\n",
       "      <td>34495</td>\n",
       "      <td>Released</td>\n",
       "      <td>2010-07-15</td>\n",
       "      <td>825532764</td>\n",
       "      <td>148</td>\n",
       "      <td>False</td>\n",
       "      <td>/8ZTVqvKDQ8emSGUEMjsS4yHAwrp.jpg</td>\n",
       "      <td>...</td>\n",
       "      <td>Action, Science Fiction, Adventure</td>\n",
       "      <td>Legendary Pictures, Syncopy, Warner Bros. Pict...</td>\n",
       "      <td>United Kingdom, United States of America</td>\n",
       "      <td>English, French, Japanese, Swahili</td>\n",
       "      <td>rescue, mission, dream, airplane, paris, franc...</td>\n",
       "      <td>Christopher Nolan</td>\n",
       "      <td>Christopher Nolan</td>\n",
       "      <td>8.8</td>\n",
       "      <td>2644069</td>\n",
       "      <td>Leonardo DiCaprio, Joseph Gordon-Levitt, Ken W...</td>\n",
       "    </tr>\n",
       "  </tbody>\n",
       "</table>\n",
       "<p>1 rows × 29 columns</p>\n",
       "</div>"
      ],
      "text/plain": [
       "      id      title  vote_average  vote_count    status release_date  \\\n",
       "0  27205  Inception         8.364       34495  Released   2010-07-15   \n",
       "\n",
       "     revenue  runtime  adult                     backdrop_path  ...  \\\n",
       "0  825532764      148  False  /8ZTVqvKDQ8emSGUEMjsS4yHAwrp.jpg  ...   \n",
       "\n",
       "                               genres  \\\n",
       "0  Action, Science Fiction, Adventure   \n",
       "\n",
       "                                production_companies  \\\n",
       "0  Legendary Pictures, Syncopy, Warner Bros. Pict...   \n",
       "\n",
       "                       production_countries  \\\n",
       "0  United Kingdom, United States of America   \n",
       "\n",
       "                     spoken_languages  \\\n",
       "0  English, French, Japanese, Swahili   \n",
       "\n",
       "                                            keywords          directors  \\\n",
       "0  rescue, mission, dream, airplane, paris, franc...  Christopher Nolan   \n",
       "\n",
       "             writers averageRating numVotes  \\\n",
       "0  Christopher Nolan           8.8  2644069   \n",
       "\n",
       "                                                cast  \n",
       "0  Leonardo DiCaprio, Joseph Gordon-Levitt, Ken W...  \n",
       "\n",
       "[1 rows x 29 columns]"
      ]
     },
     "execution_count": 27,
     "metadata": {},
     "output_type": "execute_result"
    }
   ],
   "source": [
    "df.head(1)"
   ]
  },
  {
   "cell_type": "code",
   "execution_count": 28,
   "id": "e3fb7e58-d11e-40d8-a086-923a0567f23e",
   "metadata": {},
   "outputs": [],
   "source": [
    "# Remove duplicates based on 'title'\n",
    "df = df.drop_duplicates(subset='title', keep='first')  \n",
    "\n",
    "# Fill NaN values in required columns\n",
    "for feature in ['id', 'title', 'genres', 'directors', 'writers', 'cast', 'overview', 'keywords']:\n",
    "    df[feature] = df[feature].fillna('')  "
   ]
  },
  {
   "cell_type": "code",
   "execution_count": 29,
   "id": "eff046ea-bdd3-47a4-ab45-857348c78ed7",
   "metadata": {},
   "outputs": [],
   "source": [
    "def format_and_limit_names(title_names):\n",
    "    # Split names by commas\n",
    "    title_list = title_names.split(',')\n",
    "    \n",
    "    # Format each name to camel case (remove spaces between first and last name)\n",
    "    formatted_title_list = [name.strip().replace(' ', '') for name in title_list]\n",
    "    \n",
    "    # Join the names with a space\n",
    "    return ' '.join(formatted_title_list)\n",
    "\n",
    "df['formatted_title'] = df['title'].apply(format_and_limit_names)"
   ]
  },
  {
   "cell_type": "code",
   "execution_count": 41,
   "id": "4a7cf844-45bf-4fd6-97d5-342560cd156f",
   "metadata": {},
   "outputs": [],
   "source": [
    "df['formatted_title'] = df['formatted_title'].str.lower().str.strip()"
   ]
  },
  {
   "cell_type": "code",
   "execution_count": 45,
   "id": "c69592a1-74ba-4657-82de-d4e5e4e3c6ca",
   "metadata": {},
   "outputs": [],
   "source": [
    "# movie_title = \"Pride & Prejudice\"  # make sure it's lowercase and stripped\n",
    "# movie_row = df[df['formatted_title'] == movie_title]\n",
    "\n",
    "# if not movie_row.empty:\n",
    "#     print(\"Title found:\", movie_row['title'].values[0])\n",
    "# else:\n",
    "#     print(\"Movie not found.\")"
   ]
  },
  {
   "cell_type": "code",
   "execution_count": 43,
   "id": "6e844783-b736-43f8-97ba-00e2c91e105a",
   "metadata": {},
   "outputs": [
    {
     "name": "stdout",
     "output_type": "stream",
     "text": [
      "Title: pride&prejudice\n"
     ]
    }
   ],
   "source": [
    "movie_title = \"Pride & Prejudice\"\n",
    "movie_row = df[df['title'] == movie_title]\n",
    "print(\"Title:\", movie_row['formatted_title'].values[0])"
   ]
  },
  {
   "cell_type": "code",
   "execution_count": 47,
   "id": "eca0f001-8a01-402d-b790-a9d8f6a37264",
   "metadata": {},
   "outputs": [
    {
     "data": {
      "text/html": [
       "<div>\n",
       "<style scoped>\n",
       "    .dataframe tbody tr th:only-of-type {\n",
       "        vertical-align: middle;\n",
       "    }\n",
       "\n",
       "    .dataframe tbody tr th {\n",
       "        vertical-align: top;\n",
       "    }\n",
       "\n",
       "    .dataframe thead th {\n",
       "        text-align: right;\n",
       "    }\n",
       "</style>\n",
       "<table border=\"1\" class=\"dataframe\">\n",
       "  <thead>\n",
       "    <tr style=\"text-align: right;\">\n",
       "      <th></th>\n",
       "      <th>id</th>\n",
       "      <th>title</th>\n",
       "      <th>vote_average</th>\n",
       "      <th>vote_count</th>\n",
       "      <th>status</th>\n",
       "      <th>release_date</th>\n",
       "      <th>revenue</th>\n",
       "      <th>runtime</th>\n",
       "      <th>adult</th>\n",
       "      <th>backdrop_path</th>\n",
       "      <th>...</th>\n",
       "      <th>production_companies</th>\n",
       "      <th>production_countries</th>\n",
       "      <th>spoken_languages</th>\n",
       "      <th>keywords</th>\n",
       "      <th>directors</th>\n",
       "      <th>writers</th>\n",
       "      <th>averageRating</th>\n",
       "      <th>numVotes</th>\n",
       "      <th>cast</th>\n",
       "      <th>formatted_title</th>\n",
       "    </tr>\n",
       "  </thead>\n",
       "  <tbody>\n",
       "    <tr>\n",
       "      <th>0</th>\n",
       "      <td>27205</td>\n",
       "      <td>Inception</td>\n",
       "      <td>8.364</td>\n",
       "      <td>34495</td>\n",
       "      <td>Released</td>\n",
       "      <td>2010-07-15</td>\n",
       "      <td>825532764</td>\n",
       "      <td>148</td>\n",
       "      <td>False</td>\n",
       "      <td>/8ZTVqvKDQ8emSGUEMjsS4yHAwrp.jpg</td>\n",
       "      <td>...</td>\n",
       "      <td>Legendary Pictures, Syncopy, Warner Bros. Pict...</td>\n",
       "      <td>United Kingdom, United States of America</td>\n",
       "      <td>English, French, Japanese, Swahili</td>\n",
       "      <td>rescue, mission, dream, airplane, paris, franc...</td>\n",
       "      <td>Christopher Nolan</td>\n",
       "      <td>Christopher Nolan</td>\n",
       "      <td>8.8</td>\n",
       "      <td>2644069</td>\n",
       "      <td>Leonardo DiCaprio, Joseph Gordon-Levitt, Ken W...</td>\n",
       "      <td>inception</td>\n",
       "    </tr>\n",
       "  </tbody>\n",
       "</table>\n",
       "<p>1 rows × 30 columns</p>\n",
       "</div>"
      ],
      "text/plain": [
       "      id      title  vote_average  vote_count    status release_date  \\\n",
       "0  27205  Inception         8.364       34495  Released   2010-07-15   \n",
       "\n",
       "     revenue  runtime  adult                     backdrop_path  ...  \\\n",
       "0  825532764      148  False  /8ZTVqvKDQ8emSGUEMjsS4yHAwrp.jpg  ...   \n",
       "\n",
       "                                production_companies  \\\n",
       "0  Legendary Pictures, Syncopy, Warner Bros. Pict...   \n",
       "\n",
       "                       production_countries  \\\n",
       "0  United Kingdom, United States of America   \n",
       "\n",
       "                     spoken_languages  \\\n",
       "0  English, French, Japanese, Swahili   \n",
       "\n",
       "                                            keywords          directors  \\\n",
       "0  rescue, mission, dream, airplane, paris, franc...  Christopher Nolan   \n",
       "\n",
       "             writers  averageRating numVotes  \\\n",
       "0  Christopher Nolan            8.8  2644069   \n",
       "\n",
       "                                                cast formatted_title  \n",
       "0  Leonardo DiCaprio, Joseph Gordon-Levitt, Ken W...       inception  \n",
       "\n",
       "[1 rows x 30 columns]"
      ]
     },
     "execution_count": 47,
     "metadata": {},
     "output_type": "execute_result"
    }
   ],
   "source": [
    "df.head(1)"
   ]
  },
  {
   "cell_type": "code",
   "execution_count": 102,
   "id": "be17ca73-5b5b-40d6-9f48-00dbee6c9fc8",
   "metadata": {},
   "outputs": [
    {
     "name": "stdout",
     "output_type": "stream",
     "text": [
      "Directors: bongjoonho\n",
      "Writers: jacqueslob benjaminlegrand\n",
      "Cast: chrisevans songkang-ho\n"
     ]
    }
   ],
   "source": [
    "def format_and_limit_names(cast_names, limit=2):\n",
    "    # Split names by commas\n",
    "    cast_list = cast_names.split(',')\n",
    "    \n",
    "    # Format each name to camel case (remove spaces between first and last name)\n",
    "    formatted_cast_list = [name.strip().replace(' ', '') for name in cast_list]\n",
    "    \n",
    "    # Limit to the first 3 to 5 names (you can adjust this as needed)\n",
    "    formatted_cast_list = formatted_cast_list[:limit]\n",
    "    \n",
    "    # Join the names with a space\n",
    "    return ' '.join(formatted_cast_list)\n",
    "\n",
    "# Apply the function to 'directors', 'writers', and 'cast' columns\n",
    "df['formatted_directors'] = df['directors'].apply(format_and_limit_names).str.lower()\n",
    "df['formatted_writers'] = df['writers'].apply(format_and_limit_names).str.lower()\n",
    "df['formatted_cast'] = df['cast'].apply(format_and_limit_names).str.lower()\n",
    "\n",
    "\n",
    "# Check the result for a specific movie\n",
    "movie_title = \"Snowpiercer\"\n",
    "movie_row = df[df['title'] == movie_title]\n",
    "print(\"Directors:\", movie_row['formatted_directors'].values[0])\n",
    "print(\"Writers:\", movie_row['formatted_writers'].values[0])\n",
    "print(\"Cast:\", movie_row['formatted_cast'].values[0])"
   ]
  },
  {
   "cell_type": "code",
   "execution_count": null,
   "id": "f20c1830-e69b-49a8-9911-c52b2d4ef7cc",
   "metadata": {},
   "outputs": [],
   "source": [
    "# def format_and_limit_keywords(keywords, limit=5):\n",
    "#     # Split keywords by commas\n",
    "#     keyword_list = keywords.split(',')\n",
    "    \n",
    "#     # Strip any unnecessary spaces around each keyword\n",
    "#     formatted_keyword_list = [keyword.strip().replace(' ', '') for keyword in keyword_list]\n",
    "    \n",
    "#     # Limit to the first 3 to 5 keywords\n",
    "#     formatted_keyword_list = formatted_keyword_list[:limit]\n",
    "    \n",
    "#     # Join the keywords with a space\n",
    "#     return ' '.join(formatted_keyword_list)\n",
    "\n",
    "# # Apply the function to the 'keywords' column\n",
    "# df['formatted_keywords'] = df['keywords'].apply(format_and_limit_keywords)\n",
    "\n",
    "# # Check the result for a specific movie\n",
    "# # movie_title = \"Pride & Prejudice\"\n",
    "# # movie_row = df[df['title'] == movie_title]\n",
    "# # # print(\"Keywords:\", movie_row['formatted_keywords'].values[0])"
   ]
  },
  {
   "cell_type": "code",
   "execution_count": 51,
   "id": "fc2be267-8fa6-4e51-b40f-adf8b796a9c0",
   "metadata": {},
   "outputs": [],
   "source": [
    "def format_and_limit_genres(genres_string, limit=3):\n",
    "    # Split genres by commas\n",
    "    genres_list = genres_string.split(',')\n",
    "    \n",
    "    # Format each genre (remove spaces inside if you want compactness)\n",
    "    formatted_genres_list = [genre.strip().replace(' ', '') for genre in genres_list]\n",
    "    \n",
    "    # Limit to first 'limit' genres\n",
    "    formatted_genres_list = formatted_genres_list[:limit]\n",
    "    \n",
    "    # Join the genres with a space\n",
    "    return ' '.join(formatted_genres_list)\n",
    "\n",
    "df['formatted_genres'] = df['genres'].apply(format_and_limit_genres).str.lower()\n",
    "\n",
    "# Check the result for a specific movie\n",
    "# movie_title = \"Pride & Prejudice\"\n",
    "# movie_row = df[df['title'] == movie_title]\n",
    "# print(\"Genres:\", movie_row['formatted_genres'].values[0])"
   ]
  },
  {
   "cell_type": "code",
   "execution_count": 53,
   "id": "c0fb61f8-5be1-448b-a553-e722212969ba",
   "metadata": {},
   "outputs": [],
   "source": [
    "for feature in ['keywords', 'overview']:\n",
    "    df[feature] = df[feature].fillna('').str.lower().str.replace(r'[^\\w\\s]', '', regex=True)"
   ]
  },
  {
   "cell_type": "code",
   "execution_count": 55,
   "id": "213e42df-a9f7-41e4-8ea9-e39587d30c3a",
   "metadata": {},
   "outputs": [
    {
     "data": {
      "text/html": [
       "<div>\n",
       "<style scoped>\n",
       "    .dataframe tbody tr th:only-of-type {\n",
       "        vertical-align: middle;\n",
       "    }\n",
       "\n",
       "    .dataframe tbody tr th {\n",
       "        vertical-align: top;\n",
       "    }\n",
       "\n",
       "    .dataframe thead th {\n",
       "        text-align: right;\n",
       "    }\n",
       "</style>\n",
       "<table border=\"1\" class=\"dataframe\">\n",
       "  <thead>\n",
       "    <tr style=\"text-align: right;\">\n",
       "      <th></th>\n",
       "      <th>id</th>\n",
       "      <th>title</th>\n",
       "      <th>vote_average</th>\n",
       "      <th>vote_count</th>\n",
       "      <th>status</th>\n",
       "      <th>release_date</th>\n",
       "      <th>revenue</th>\n",
       "      <th>runtime</th>\n",
       "      <th>adult</th>\n",
       "      <th>backdrop_path</th>\n",
       "      <th>...</th>\n",
       "      <th>directors</th>\n",
       "      <th>writers</th>\n",
       "      <th>averageRating</th>\n",
       "      <th>numVotes</th>\n",
       "      <th>cast</th>\n",
       "      <th>formatted_title</th>\n",
       "      <th>formatted_directors</th>\n",
       "      <th>formatted_writers</th>\n",
       "      <th>formatted_cast</th>\n",
       "      <th>formatted_genres</th>\n",
       "    </tr>\n",
       "  </thead>\n",
       "  <tbody>\n",
       "    <tr>\n",
       "      <th>0</th>\n",
       "      <td>27205</td>\n",
       "      <td>Inception</td>\n",
       "      <td>8.364</td>\n",
       "      <td>34495</td>\n",
       "      <td>Released</td>\n",
       "      <td>2010-07-15</td>\n",
       "      <td>825532764</td>\n",
       "      <td>148</td>\n",
       "      <td>False</td>\n",
       "      <td>/8ZTVqvKDQ8emSGUEMjsS4yHAwrp.jpg</td>\n",
       "      <td>...</td>\n",
       "      <td>Christopher Nolan</td>\n",
       "      <td>Christopher Nolan</td>\n",
       "      <td>8.8</td>\n",
       "      <td>2644069</td>\n",
       "      <td>Leonardo DiCaprio, Joseph Gordon-Levitt, Ken W...</td>\n",
       "      <td>inception</td>\n",
       "      <td>christophernolan</td>\n",
       "      <td>christophernolan</td>\n",
       "      <td>leonardodicaprio josephgordon-levitt</td>\n",
       "      <td>action sciencefiction adventure</td>\n",
       "    </tr>\n",
       "  </tbody>\n",
       "</table>\n",
       "<p>1 rows × 34 columns</p>\n",
       "</div>"
      ],
      "text/plain": [
       "      id      title  vote_average  vote_count    status release_date  \\\n",
       "0  27205  Inception         8.364       34495  Released   2010-07-15   \n",
       "\n",
       "     revenue  runtime  adult                     backdrop_path  ...  \\\n",
       "0  825532764      148  False  /8ZTVqvKDQ8emSGUEMjsS4yHAwrp.jpg  ...   \n",
       "\n",
       "           directors            writers averageRating numVotes  \\\n",
       "0  Christopher Nolan  Christopher Nolan           8.8  2644069   \n",
       "\n",
       "                                                cast formatted_title  \\\n",
       "0  Leonardo DiCaprio, Joseph Gordon-Levitt, Ken W...       inception   \n",
       "\n",
       "   formatted_directors formatted_writers  \\\n",
       "0     christophernolan  christophernolan   \n",
       "\n",
       "                         formatted_cast                 formatted_genres  \n",
       "0  leonardodicaprio josephgordon-levitt  action sciencefiction adventure  \n",
       "\n",
       "[1 rows x 34 columns]"
      ]
     },
     "execution_count": 55,
     "metadata": {},
     "output_type": "execute_result"
    }
   ],
   "source": [
    "df.head(1)"
   ]
  },
  {
   "cell_type": "code",
   "execution_count": 57,
   "id": "c676895d-c6c1-4071-9896-73cb93727d21",
   "metadata": {},
   "outputs": [
    {
     "name": "stdout",
     "output_type": "stream",
     "text": [
      "combined_features: pride&prejudice keiraknightley matthewmacfadyen joewright deborahmoggach janeausten drama romance a story of love and life among the landed english gentry during the georgian era mr bennet is a gentleman living in hertfordshire with his overbearing wife and five daughters but if he dies their house will be inherited by a distant cousin whom they have never met so the familys future happiness and security is dependent on the daughters making good marriages based on novel or book england bachelor family relationships suitor prejudice period drama pride 18th century opposites attract gentleman georgian or regency era 1790s sisters\n"
     ]
    }
   ],
   "source": [
    "def create_combined_features(row):\n",
    "    return (\n",
    "        str(row['formatted_title']) + \" \" +\n",
    "        str(row['formatted_cast']) + \" \" +\n",
    "        str(row['formatted_directors']) + \" \" +\n",
    "        str(row['formatted_writers']) + \" \" +\n",
    "        str(row['formatted_genres']) + \" \" +\n",
    "        str(row['overview']) + \" \" +\n",
    "        str(row['keywords'])\n",
    "    )\n",
    "\n",
    "df['combined_features'] = df.apply(create_combined_features, axis=1)\n",
    "\n",
    "# Check the result for a specific movie\n",
    "movie_title = \"Pride & Prejudice\"\n",
    "movie_row = df[df['title'] == movie_title]\n",
    "print(\"combined_features:\", movie_row['combined_features'].values[0])"
   ]
  },
  {
   "cell_type": "code",
   "execution_count": 59,
   "id": "34dfeef9-5d8c-4057-8196-2bb7dbf7c7cb",
   "metadata": {},
   "outputs": [
    {
     "name": "stderr",
     "output_type": "stream",
     "text": [
      "[nltk_data] Downloading package stopwords to\n",
      "[nltk_data]     C:\\Users\\prana\\AppData\\Roaming\\nltk_data...\n",
      "[nltk_data]   Package stopwords is already up-to-date!\n",
      "[nltk_data] Downloading package wordnet to\n",
      "[nltk_data]     C:\\Users\\prana\\AppData\\Roaming\\nltk_data...\n",
      "[nltk_data]   Package wordnet is already up-to-date!\n"
     ]
    }
   ],
   "source": [
    "import nltk\n",
    "import re\n",
    "from nltk.corpus import stopwords\n",
    "from nltk.stem import WordNetLemmatizer\n",
    "\n",
    "nltk.download('stopwords')\n",
    "nltk.download('wordnet')\n",
    "\n",
    "stop_words = set(stopwords.words('english'))\n",
    "lemmatizer = WordNetLemmatizer()\n",
    "\n",
    "def clean_text(text):\n",
    "    if pd.isna(text):\n",
    "        return ''\n",
    "    text = re.sub(r'[^a-zA-Z]', ' ', text.lower())\n",
    "    words = text.split()\n",
    "    words = [lemmatizer.lemmatize(word) for word in words if word not in stop_words]\n",
    "    return ' '.join(words)"
   ]
  },
  {
   "cell_type": "code",
   "execution_count": 61,
   "id": "8b12d8ac-a46f-4fa4-af1a-f5fb0b78c420",
   "metadata": {},
   "outputs": [],
   "source": [
    "df['combined_features'] = df['combined_features'].apply(clean_text)"
   ]
  },
  {
   "cell_type": "code",
   "execution_count": 62,
   "id": "b8e9f120-7654-487f-a0ea-f44b6e18eb9a",
   "metadata": {},
   "outputs": [
    {
     "data": {
      "text/html": [
       "<div>\n",
       "<style scoped>\n",
       "    .dataframe tbody tr th:only-of-type {\n",
       "        vertical-align: middle;\n",
       "    }\n",
       "\n",
       "    .dataframe tbody tr th {\n",
       "        vertical-align: top;\n",
       "    }\n",
       "\n",
       "    .dataframe thead th {\n",
       "        text-align: right;\n",
       "    }\n",
       "</style>\n",
       "<table border=\"1\" class=\"dataframe\">\n",
       "  <thead>\n",
       "    <tr style=\"text-align: right;\">\n",
       "      <th></th>\n",
       "      <th>id</th>\n",
       "      <th>title</th>\n",
       "      <th>vote_average</th>\n",
       "      <th>vote_count</th>\n",
       "      <th>status</th>\n",
       "      <th>release_date</th>\n",
       "      <th>revenue</th>\n",
       "      <th>runtime</th>\n",
       "      <th>adult</th>\n",
       "      <th>backdrop_path</th>\n",
       "      <th>...</th>\n",
       "      <th>writers</th>\n",
       "      <th>averageRating</th>\n",
       "      <th>numVotes</th>\n",
       "      <th>cast</th>\n",
       "      <th>formatted_title</th>\n",
       "      <th>formatted_directors</th>\n",
       "      <th>formatted_writers</th>\n",
       "      <th>formatted_cast</th>\n",
       "      <th>formatted_genres</th>\n",
       "      <th>combined_features</th>\n",
       "    </tr>\n",
       "  </thead>\n",
       "  <tbody>\n",
       "    <tr>\n",
       "      <th>0</th>\n",
       "      <td>27205</td>\n",
       "      <td>Inception</td>\n",
       "      <td>8.364</td>\n",
       "      <td>34495</td>\n",
       "      <td>Released</td>\n",
       "      <td>2010-07-15</td>\n",
       "      <td>825532764</td>\n",
       "      <td>148</td>\n",
       "      <td>False</td>\n",
       "      <td>/8ZTVqvKDQ8emSGUEMjsS4yHAwrp.jpg</td>\n",
       "      <td>...</td>\n",
       "      <td>Christopher Nolan</td>\n",
       "      <td>8.8</td>\n",
       "      <td>2644069</td>\n",
       "      <td>Leonardo DiCaprio, Joseph Gordon-Levitt, Ken W...</td>\n",
       "      <td>inception</td>\n",
       "      <td>christophernolan</td>\n",
       "      <td>christophernolan</td>\n",
       "      <td>leonardodicaprio josephgordon-levitt</td>\n",
       "      <td>action sciencefiction adventure</td>\n",
       "      <td>inception leonardodicaprio josephgordon levitt...</td>\n",
       "    </tr>\n",
       "  </tbody>\n",
       "</table>\n",
       "<p>1 rows × 35 columns</p>\n",
       "</div>"
      ],
      "text/plain": [
       "      id      title  vote_average  vote_count    status release_date  \\\n",
       "0  27205  Inception         8.364       34495  Released   2010-07-15   \n",
       "\n",
       "     revenue  runtime  adult                     backdrop_path  ...  \\\n",
       "0  825532764      148  False  /8ZTVqvKDQ8emSGUEMjsS4yHAwrp.jpg  ...   \n",
       "\n",
       "             writers averageRating numVotes  \\\n",
       "0  Christopher Nolan           8.8  2644069   \n",
       "\n",
       "                                                cast formatted_title  \\\n",
       "0  Leonardo DiCaprio, Joseph Gordon-Levitt, Ken W...       inception   \n",
       "\n",
       "  formatted_directors  formatted_writers  \\\n",
       "0    christophernolan   christophernolan   \n",
       "\n",
       "                         formatted_cast                 formatted_genres  \\\n",
       "0  leonardodicaprio josephgordon-levitt  action sciencefiction adventure   \n",
       "\n",
       "                                   combined_features  \n",
       "0  inception leonardodicaprio josephgordon levitt...  \n",
       "\n",
       "[1 rows x 35 columns]"
      ]
     },
     "execution_count": 62,
     "metadata": {},
     "output_type": "execute_result"
    }
   ],
   "source": [
    "df.head(1)"
   ]
  },
  {
   "cell_type": "code",
   "execution_count": 63,
   "id": "64b3f295-7893-4581-85cf-4ec146c9e7f7",
   "metadata": {},
   "outputs": [
    {
     "data": {
      "text/html": [
       "<div>\n",
       "<style scoped>\n",
       "    .dataframe tbody tr th:only-of-type {\n",
       "        vertical-align: middle;\n",
       "    }\n",
       "\n",
       "    .dataframe tbody tr th {\n",
       "        vertical-align: top;\n",
       "    }\n",
       "\n",
       "    .dataframe thead th {\n",
       "        text-align: right;\n",
       "    }\n",
       "</style>\n",
       "<table border=\"1\" class=\"dataframe\">\n",
       "  <thead>\n",
       "    <tr style=\"text-align: right;\">\n",
       "      <th></th>\n",
       "      <th>id</th>\n",
       "      <th>title</th>\n",
       "      <th>keywords</th>\n",
       "      <th>cast</th>\n",
       "      <th>directors</th>\n",
       "      <th>writers</th>\n",
       "      <th>genres</th>\n",
       "      <th>tags</th>\n",
       "    </tr>\n",
       "  </thead>\n",
       "  <tbody>\n",
       "    <tr>\n",
       "      <th>0</th>\n",
       "      <td>27205</td>\n",
       "      <td>Inception</td>\n",
       "      <td>rescue mission dream airplane paris france vir...</td>\n",
       "      <td>Leonardo DiCaprio, Joseph Gordon-Levitt, Ken W...</td>\n",
       "      <td>Christopher Nolan</td>\n",
       "      <td>Christopher Nolan</td>\n",
       "      <td>Action, Science Fiction, Adventure</td>\n",
       "      <td>inception leonardodicaprio josephgordon levitt...</td>\n",
       "    </tr>\n",
       "    <tr>\n",
       "      <th>1</th>\n",
       "      <td>157336</td>\n",
       "      <td>Interstellar</td>\n",
       "      <td>rescue future spacecraft race against time art...</td>\n",
       "      <td>Matthew McConaughey, Anne Hathaway, Michael Ca...</td>\n",
       "      <td>Christopher Nolan</td>\n",
       "      <td>Jonathan Nolan, Christopher Nolan</td>\n",
       "      <td>Adventure, Drama, Science Fiction</td>\n",
       "      <td>interstellar matthewmcconaughey annehathaway c...</td>\n",
       "    </tr>\n",
       "    <tr>\n",
       "      <th>2</th>\n",
       "      <td>155</td>\n",
       "      <td>The Dark Knight</td>\n",
       "      <td>joker sadism chaos secret identity crime fight...</td>\n",
       "      <td>Christian Bale, Heath Ledger, Aaron Eckhart, M...</td>\n",
       "      <td>Christopher Nolan</td>\n",
       "      <td>Jonathan Nolan, Christopher Nolan, David S. Go...</td>\n",
       "      <td>Drama, Action, Crime, Thriller</td>\n",
       "      <td>thedarkknight christianbale heathledger christ...</td>\n",
       "    </tr>\n",
       "  </tbody>\n",
       "</table>\n",
       "</div>"
      ],
      "text/plain": [
       "       id            title                                           keywords  \\\n",
       "0   27205        Inception  rescue mission dream airplane paris france vir...   \n",
       "1  157336     Interstellar  rescue future spacecraft race against time art...   \n",
       "2     155  The Dark Knight  joker sadism chaos secret identity crime fight...   \n",
       "\n",
       "                                                cast          directors  \\\n",
       "0  Leonardo DiCaprio, Joseph Gordon-Levitt, Ken W...  Christopher Nolan   \n",
       "1  Matthew McConaughey, Anne Hathaway, Michael Ca...  Christopher Nolan   \n",
       "2  Christian Bale, Heath Ledger, Aaron Eckhart, M...  Christopher Nolan   \n",
       "\n",
       "                                             writers  \\\n",
       "0                                  Christopher Nolan   \n",
       "1                  Jonathan Nolan, Christopher Nolan   \n",
       "2  Jonathan Nolan, Christopher Nolan, David S. Go...   \n",
       "\n",
       "                               genres  \\\n",
       "0  Action, Science Fiction, Adventure   \n",
       "1   Adventure, Drama, Science Fiction   \n",
       "2      Drama, Action, Crime, Thriller   \n",
       "\n",
       "                                                tags  \n",
       "0  inception leonardodicaprio josephgordon levitt...  \n",
       "1  interstellar matthewmcconaughey annehathaway c...  \n",
       "2  thedarkknight christianbale heathledger christ...  "
      ]
     },
     "execution_count": 63,
     "metadata": {},
     "output_type": "execute_result"
    }
   ],
   "source": [
    "# List of required columns\n",
    "required_columns = ['id',\n",
    "                    'title', \n",
    "                    'keywords',\n",
    "                    'cast',\n",
    "                    'directors',\n",
    "                    'writers', \n",
    "                    'genres',\n",
    "                    'combined_features']\n",
    "\n",
    "# Create a new dataframe with only these columns\n",
    "new_df = df[required_columns].copy()\n",
    "\n",
    "# Rename the columns\n",
    "new_df = new_df.rename(columns={\n",
    "    'combined_features': 'tags'\n",
    "})\n",
    "\n",
    "# Display the first few rows to check\n",
    "new_df.head(3)"
   ]
  },
  {
   "cell_type": "code",
   "execution_count": 67,
   "id": "01aff391-e680-4c9d-ab16-032c87275bc8",
   "metadata": {},
   "outputs": [],
   "source": [
    "new_df.to_csv('processed_movies_dataset.csv', index=False)"
   ]
  },
  {
   "cell_type": "code",
   "execution_count": 69,
   "id": "e125f4a8-3290-48ce-8521-86a0bc21209e",
   "metadata": {},
   "outputs": [
    {
     "data": {
      "text/plain": [
       "(6508, 8)"
      ]
     },
     "execution_count": 69,
     "metadata": {},
     "output_type": "execute_result"
    }
   ],
   "source": [
    "new_df.shape"
   ]
  },
  {
   "cell_type": "code",
   "execution_count": 71,
   "id": "e1485847-fee7-424a-93ef-51533325d41a",
   "metadata": {},
   "outputs": [
    {
     "data": {
      "text/html": [
       "<div>\n",
       "<style scoped>\n",
       "    .dataframe tbody tr th:only-of-type {\n",
       "        vertical-align: middle;\n",
       "    }\n",
       "\n",
       "    .dataframe tbody tr th {\n",
       "        vertical-align: top;\n",
       "    }\n",
       "\n",
       "    .dataframe thead th {\n",
       "        text-align: right;\n",
       "    }\n",
       "</style>\n",
       "<table border=\"1\" class=\"dataframe\">\n",
       "  <thead>\n",
       "    <tr style=\"text-align: right;\">\n",
       "      <th></th>\n",
       "      <th>id</th>\n",
       "      <th>title</th>\n",
       "      <th>keywords</th>\n",
       "      <th>cast</th>\n",
       "      <th>directors</th>\n",
       "      <th>writers</th>\n",
       "      <th>genres</th>\n",
       "      <th>tags</th>\n",
       "    </tr>\n",
       "  </thead>\n",
       "  <tbody>\n",
       "    <tr>\n",
       "      <th>0</th>\n",
       "      <td>27205</td>\n",
       "      <td>Inception</td>\n",
       "      <td>rescue mission dream airplane paris france vir...</td>\n",
       "      <td>Leonardo DiCaprio, Joseph Gordon-Levitt, Ken W...</td>\n",
       "      <td>Christopher Nolan</td>\n",
       "      <td>Christopher Nolan</td>\n",
       "      <td>Action, Science Fiction, Adventure</td>\n",
       "      <td>inception leonardodicaprio josephgordon levitt...</td>\n",
       "    </tr>\n",
       "  </tbody>\n",
       "</table>\n",
       "</div>"
      ],
      "text/plain": [
       "      id      title                                           keywords  \\\n",
       "0  27205  Inception  rescue mission dream airplane paris france vir...   \n",
       "\n",
       "                                                cast          directors  \\\n",
       "0  Leonardo DiCaprio, Joseph Gordon-Levitt, Ken W...  Christopher Nolan   \n",
       "\n",
       "             writers                              genres  \\\n",
       "0  Christopher Nolan  Action, Science Fiction, Adventure   \n",
       "\n",
       "                                                tags  \n",
       "0  inception leonardodicaprio josephgordon levitt...  "
      ]
     },
     "execution_count": 71,
     "metadata": {},
     "output_type": "execute_result"
    }
   ],
   "source": [
    "new_df.head(1)"
   ]
  },
  {
   "cell_type": "markdown",
   "id": "5d0637f2-f527-49e4-9e8a-5cee9fb669ac",
   "metadata": {},
   "source": [
    "Content-Based"
   ]
  },
  {
   "cell_type": "code",
   "execution_count": 74,
   "id": "9c084048-8893-4ac4-ad46-2e68f89d6dfa",
   "metadata": {},
   "outputs": [],
   "source": [
    "# Vectorize with TF-IDF\n",
    "tfidf = TfidfVectorizer(max_features=5000, stop_words='english')\n",
    "tfidf_matrix = tfidf.fit_transform(new_df['tags'])  # 'tags' contains combined features\n",
    "\n",
    "# Compute similarity matrix\n",
    "sim_matrix = linear_kernel(tfidf_matrix, tfidf_matrix)"
   ]
  },
  {
   "cell_type": "code",
   "execution_count": 75,
   "id": "d03f69ed-5d52-43bf-a3f4-99b6692be585",
   "metadata": {},
   "outputs": [],
   "source": [
    "from difflib import SequenceMatcher\n",
    "\n",
    "# Title Similarity (Updated to handle case-insensitivity)\n",
    "def get_title_similar_movies(title, new_df, top_n=5):\n",
    "    # Convert the input title to lowercase for comparison\n",
    "    title = title.lower()\n",
    "    \n",
    "    # Apply case-insensitive comparison\n",
    "    new_df['title_score'] = new_df['title'].apply(lambda x: SequenceMatcher(None, title, x.lower()).ratio())\n",
    "    top_titles = new_df.sort_values(by='title_score', ascending=False)\n",
    "    \n",
    "    return top_titles[['title']].head(top_n).assign(reason='Similar Title')\n",
    "\n",
    "# Genre Matching (Ensure no case sensitivity issue)\n",
    "def get_movies_with_similar_genre(title, new_df, top_n=10):\n",
    "    # Get the genre of the input title (case-insensitive)\n",
    "    target_genres = new_df[new_df['title'].str.lower() == title.lower()]['genres'].values[0]\n",
    "    genre_match = new_df[new_df['genres'] == target_genres]\n",
    "    return genre_match[['title']].drop_duplicates().head(top_n).assign(reason='Same Genre')\n",
    "\n",
    "# Same Director (Handle case insensitivity)\n",
    "def get_movies_by_same_director(title, new_df, top_n=10):\n",
    "    # Get the director name for the input title\n",
    "    director = new_df[new_df['title'].str.lower() == title.lower()]['directors'].values[0]\n",
    "    same_director = new_df[new_df['directors'] == director]\n",
    "    return same_director[['title']].drop_duplicates().head(top_n).assign(reason='Same Director')\n",
    "\n",
    "# Same Cast (Handle case insensitivity)\n",
    "def get_movies_with_same_cast(title, new_df, top_n=10):\n",
    "    # Get the cast for the input title\n",
    "    target_cast = set(new_df[new_df['title'].str.lower() == title.lower()]['cast'].values[0].split(\", \"))\n",
    "    \n",
    "    def cast_overlap(cast):\n",
    "        return len(target_cast.intersection(set(cast.split(\", \"))))\n",
    "    \n",
    "    new_df['cast_score'] = new_df['cast'].apply(cast_overlap)\n",
    "    return new_df.sort_values(by='cast_score', ascending=False)[['title']].head(top_n).assign(reason='Similar Cast')\n",
    "\n",
    "# Same Writer (Handle case insensitivity)\n",
    "def get_movies_by_same_writer(title, new_df, top_n=10):\n",
    "    writer = new_df[new_df['title'].str.lower() == title.lower()]['writers'].values[0]\n",
    "    same_writer = new_df[new_df['writers'] == writer]\n",
    "    return same_writer[['title']].drop_duplicates().head(top_n).assign(reason='Same Writer')\n",
    "\n",
    "# Remove duplicates\n",
    "def remove_duplicates(df, movie_title):\n",
    "    df = df[df['title'] != movie_title]\n",
    "    return df.drop_duplicates(subset='title')"
   ]
  },
  {
   "cell_type": "code",
   "execution_count": 76,
   "id": "ca7bba59-7b47-49c7-a463-9f1e4da91409",
   "metadata": {},
   "outputs": [],
   "source": [
    "indices = pd.Series(df.index, index=df['title'])"
   ]
  },
  {
   "cell_type": "code",
   "execution_count": 80,
   "id": "ee131318-6493-4bdb-ad71-5fb19013b4ea",
   "metadata": {},
   "outputs": [],
   "source": [
    "def get_tfidf_similar_movies(title, df, tfidf_matrix, indices, top_n=10):\n",
    "    if title not in indices:\n",
    "        return pd.DataFrame(columns=['title', 'reason'])  # empty if title not found\n",
    "    \n",
    "    idx = indices[title]\n",
    "    cosine_sim = linear_kernel(tfidf_matrix[idx], tfidf_matrix).flatten()\n",
    "    sim_scores = list(enumerate(cosine_sim))\n",
    "    sim_scores = sorted(sim_scores, key=lambda x: x[1], reverse=True)[1:top_n+1]\n",
    "    movie_indices = [i[0] for i in sim_scores]\n",
    "    \n",
    "    return df.iloc[movie_indices][['title']].assign(reason='Same Genre')"
   ]
  },
  {
   "cell_type": "code",
   "execution_count": 96,
   "id": "fd335925-882f-4218-83f4-21305121d464",
   "metadata": {},
   "outputs": [],
   "source": [
    "def hybrid_recommend(title, new_df):\n",
    "    part1 = get_movies_with_same_cast(title, new_df, top_n=10)  # Increase top_n here\n",
    "    part2 = get_movies_by_same_director(title, new_df, top_n=10)\n",
    "    part3 = get_movies_with_similar_genre(title, new_df, top_n=10)\n",
    "    part4 = get_tfidf_similar_movies(title, df, tfidf_matrix, indices)\n",
    "    part5 = get_movies_by_same_writer(title, new_df, top_n=10)\n",
    "    part6 = get_title_similar_movies(title, new_df, top_n=5)\n",
    "\n",
    "    # Combine all recommendations\n",
    "    combined = pd.concat([part3, part4, part1, part2, part5, part6], ignore_index=True)\n",
    "    #print(f\"Total movies before cleaning: {len(combined)}\")  # Debug: Check how many movies before cleaning\n",
    "\n",
    "    # Clean duplicates\n",
    "    clean = remove_duplicates(combined, title)\n",
    "    #print(f\"Total movies after cleaning: {len(clean)}\")  # Debug: Check how many movies after cleaning\n",
    "\n",
    "    # Return top 45 unique movies\n",
    "    return clean.head(45)"
   ]
  },
  {
   "cell_type": "code",
   "execution_count": 98,
   "id": "5c16fae0-89db-4e85-9611-d16dd6047f74",
   "metadata": {},
   "outputs": [
    {
     "name": "stdout",
     "output_type": "stream",
     "text": [
      "                                title        reason\n",
      "                           Real Steel    Same Genre\n",
      "                           Inside Job    Same Genre\n",
      "                      Too Big to Fail    Same Genre\n",
      "              The Wolf of Wall Street    Same Genre\n",
      "                        Don't Look Up    Same Genre\n",
      "                                 Vice    Same Genre\n",
      "                             99 Homes    Same Genre\n",
      "Anchorman: The Legend of Ron Burgundy    Same Genre\n",
      "                        Step Brothers    Same Genre\n",
      "                          Rising High    Same Genre\n",
      "                The Resistance Banker    Same Genre\n",
      "                           Hallam Foe  Similar Cast\n",
      "                             The Host  Similar Cast\n",
      "                               Gifted  Similar Cast\n",
      "               Only Lovers Left Alive  Similar Cast\n",
      "                   Death at a Funeral  Similar Cast\n",
      "                       Broken Flowers  Similar Cast\n",
      "     Perfume: The Story of a Murderer  Similar Cast\n",
      "                  The French Dispatch  Similar Cast\n",
      "                       Watership Down  Similar Cast\n",
      "                             Parasite Same Director\n",
      "                                 Okja Same Director\n",
      "                   Memories of Murder Same Director\n",
      "                               Mother Same Director\n",
      "              Barking Dogs Never Bite Same Director\n",
      "                              Nowhere Similar Title\n",
      "                             Sorcerer Similar Title\n",
      "                            Sunflower Similar Title\n",
      "                            Overcomer Similar Title\n"
     ]
    }
   ],
   "source": [
    "recommendations = hybrid_recommend(\"Snowpiercer\", df)\n",
    "print(recommendations.to_string(index=False))"
   ]
  },
  {
   "cell_type": "markdown",
   "id": "646e787a-4636-4f06-bbf8-0e7fe6a5a318",
   "metadata": {},
   "source": [
    "Collaborative Filtering"
   ]
  },
  {
   "cell_type": "code",
   "execution_count": 104,
   "id": "d9bc72b3-704c-4c74-b701-5303bbbafa5f",
   "metadata": {},
   "outputs": [],
   "source": [
    "import numpy as np\n",
    "from sklearn.neighbors import NearestNeighbors\n",
    "from scipy.sparse import csr_matrix\n",
    "from fuzzywuzzy import process\n",
    "import pandas as pd\n",
    "import re"
   ]
  },
  {
   "cell_type": "code",
   "execution_count": 106,
   "id": "45f78164-484d-4b13-a1fc-972a96948321",
   "metadata": {},
   "outputs": [],
   "source": [
    "# Step 1: Load your ratings data \n",
    "ratings_df = pd.read_csv('ratings.csv')"
   ]
  },
  {
   "cell_type": "code",
   "execution_count": 107,
   "id": "fc7ae818-3bd5-4bcd-ad58-467b4724ffa7",
   "metadata": {},
   "outputs": [],
   "source": [
    "movies_df = pd.read_csv('movies.csv')  # The movies dataset"
   ]
  },
  {
   "cell_type": "code",
   "execution_count": 281,
   "id": "91f088ae-d016-4acb-8aae-5ca18af4a387",
   "metadata": {},
   "outputs": [
    {
     "name": "stdout",
     "output_type": "stream",
     "text": [
      "🎉 Movie titles cleaned and saved to movies.csv!\n"
     ]
    }
   ],
   "source": [
    "# Define the title cleaning function\n",
    "def clean_movie_title(title):\n",
    "    # Move articles like \", The\" to the front and remove year\n",
    "    match = re.match(r\"(.+),\\s(The|An|A)\\s*\\((\\d{4})\\)\", title)\n",
    "    if match:\n",
    "        title_cleaned = f\"{match.group(2)} {match.group(1)}\"\n",
    "    else:\n",
    "        # Remove year in parentheses\n",
    "        title_cleaned = re.sub(r\"\\s*\\(\\d{4}\\)\", \"\", title)\n",
    "\n",
    "        # Handle \"Title, The\" format without year\n",
    "        article_match = re.match(r\"(.+),\\s(The|An|A|La)$\", title_cleaned)\n",
    "        if article_match:\n",
    "            title_cleaned = f\"{article_match.group(2)} {article_match.group(1)}\"\n",
    "\n",
    "    return title_cleaned.strip()\n",
    "\n",
    "# Apply the cleaning function\n",
    "movies_df['title'] = movies_df['title'].apply(clean_movie_title)\n",
    "\n",
    "# Optional: Remove duplicates based on cleaned titles\n",
    "movies_df = movies_df.drop_duplicates(subset='title')\n",
    "\n",
    "# Save back to the same CSV (or choose a new name like 'movies_cleaned.csv')\n",
    "movies_df.to_csv('movies.csv', index=False)\n",
    "\n",
    "print(\"🎉 Movie titles cleaned and saved to movies.csv!\")"
   ]
  },
  {
   "cell_type": "code",
   "execution_count": 283,
   "id": "c7aa90ff-9994-4289-8a46-2996f0f37a9c",
   "metadata": {},
   "outputs": [
    {
     "name": "stdout",
     "output_type": "stream",
     "text": [
      "(58139, 2)\n"
     ]
    },
    {
     "data": {
      "text/html": [
       "<div>\n",
       "<style scoped>\n",
       "    .dataframe tbody tr th:only-of-type {\n",
       "        vertical-align: middle;\n",
       "    }\n",
       "\n",
       "    .dataframe tbody tr th {\n",
       "        vertical-align: top;\n",
       "    }\n",
       "\n",
       "    .dataframe thead th {\n",
       "        text-align: right;\n",
       "    }\n",
       "</style>\n",
       "<table border=\"1\" class=\"dataframe\">\n",
       "  <thead>\n",
       "    <tr style=\"text-align: right;\">\n",
       "      <th></th>\n",
       "      <th>movieId</th>\n",
       "      <th>title</th>\n",
       "    </tr>\n",
       "  </thead>\n",
       "  <tbody>\n",
       "    <tr>\n",
       "      <th>0</th>\n",
       "      <td>1</td>\n",
       "      <td>Toy Story</td>\n",
       "    </tr>\n",
       "    <tr>\n",
       "      <th>1</th>\n",
       "      <td>2</td>\n",
       "      <td>Jumanji</td>\n",
       "    </tr>\n",
       "  </tbody>\n",
       "</table>\n",
       "</div>"
      ],
      "text/plain": [
       "   movieId      title\n",
       "0        1  Toy Story\n",
       "1        2    Jumanji"
      ]
     },
     "execution_count": 283,
     "metadata": {},
     "output_type": "execute_result"
    }
   ],
   "source": [
    "print(movies_df.shape)\n",
    "movies_df.head(2)"
   ]
  },
  {
   "cell_type": "code",
   "execution_count": 111,
   "id": "49b36051-0e00-4445-9eea-1a1e43d803d2",
   "metadata": {},
   "outputs": [],
   "source": [
    "ratings_df = ratings_df.drop('timestamp', axis=1)"
   ]
  },
  {
   "cell_type": "code",
   "execution_count": 112,
   "id": "cc3dfdd8-1a7e-4847-9f1b-4252e1b60fcc",
   "metadata": {},
   "outputs": [
    {
     "data": {
      "text/html": [
       "<div>\n",
       "<style scoped>\n",
       "    .dataframe tbody tr th:only-of-type {\n",
       "        vertical-align: middle;\n",
       "    }\n",
       "\n",
       "    .dataframe tbody tr th {\n",
       "        vertical-align: top;\n",
       "    }\n",
       "\n",
       "    .dataframe thead th {\n",
       "        text-align: right;\n",
       "    }\n",
       "</style>\n",
       "<table border=\"1\" class=\"dataframe\">\n",
       "  <thead>\n",
       "    <tr style=\"text-align: right;\">\n",
       "      <th></th>\n",
       "      <th>userId</th>\n",
       "      <th>movieId</th>\n",
       "      <th>rating</th>\n",
       "    </tr>\n",
       "  </thead>\n",
       "  <tbody>\n",
       "    <tr>\n",
       "      <th>0</th>\n",
       "      <td>1</td>\n",
       "      <td>296</td>\n",
       "      <td>5.0</td>\n",
       "    </tr>\n",
       "    <tr>\n",
       "      <th>1</th>\n",
       "      <td>1</td>\n",
       "      <td>306</td>\n",
       "      <td>3.5</td>\n",
       "    </tr>\n",
       "  </tbody>\n",
       "</table>\n",
       "</div>"
      ],
      "text/plain": [
       "   userId  movieId  rating\n",
       "0       1      296     5.0\n",
       "1       1      306     3.5"
      ]
     },
     "execution_count": 112,
     "metadata": {},
     "output_type": "execute_result"
    }
   ],
   "source": [
    "ratings_df.head(2)"
   ]
  },
  {
   "cell_type": "code",
   "execution_count": 113,
   "id": "fa179f20-a336-4b4a-bece-8df905387dc3",
   "metadata": {},
   "outputs": [],
   "source": [
    "# Step 1: Filter the ratings dataset\n",
    "\n",
    "# Keep only users who rated at least 100 movies\n",
    "user_counts = ratings_df['userId'].value_counts()\n",
    "active_users = user_counts[user_counts >= 100].index\n",
    "ratings_df = ratings_df[ratings_df['userId'].isin(active_users)]\n",
    "\n",
    "# Keep only movies that received at least 500 ratings\n",
    "movie_counts = ratings_df['movieId'].value_counts()\n",
    "popular_movies = movie_counts[movie_counts >= 500].index\n",
    "ratings_df = ratings_df[ratings_df['movieId'].isin(popular_movies)]"
   ]
  },
  {
   "cell_type": "code",
   "execution_count": 114,
   "id": "194cf81b-e460-4b1b-aa8b-902b9a37e595",
   "metadata": {},
   "outputs": [
    {
     "data": {
      "text/html": [
       "<div>\n",
       "<style scoped>\n",
       "    .dataframe tbody tr th:only-of-type {\n",
       "        vertical-align: middle;\n",
       "    }\n",
       "\n",
       "    .dataframe tbody tr th {\n",
       "        vertical-align: top;\n",
       "    }\n",
       "\n",
       "    .dataframe thead th {\n",
       "        text-align: right;\n",
       "    }\n",
       "</style>\n",
       "<table border=\"1\" class=\"dataframe\">\n",
       "  <thead>\n",
       "    <tr style=\"text-align: right;\">\n",
       "      <th></th>\n",
       "      <th>userId</th>\n",
       "      <th>movieId</th>\n",
       "      <th>rating</th>\n",
       "    </tr>\n",
       "  </thead>\n",
       "  <tbody>\n",
       "    <tr>\n",
       "      <th>70</th>\n",
       "      <td>2</td>\n",
       "      <td>1</td>\n",
       "      <td>3.5</td>\n",
       "    </tr>\n",
       "  </tbody>\n",
       "</table>\n",
       "</div>"
      ],
      "text/plain": [
       "    userId  movieId  rating\n",
       "70       2        1     3.5"
      ]
     },
     "execution_count": 114,
     "metadata": {},
     "output_type": "execute_result"
    }
   ],
   "source": [
    "ratings_df.head(1)"
   ]
  },
  {
   "cell_type": "code",
   "execution_count": 115,
   "id": "ef18b0fa-7994-49ab-a3a3-834124cae624",
   "metadata": {},
   "outputs": [
    {
     "data": {
      "text/plain": [
       "181"
      ]
     },
     "execution_count": 115,
     "metadata": {},
     "output_type": "execute_result"
    }
   ],
   "source": [
    "ratings_df[ratings_df['userId'] == 2].shape[0]"
   ]
  },
  {
   "cell_type": "code",
   "execution_count": 116,
   "id": "2bd1c7cc-d393-4233-9723-2fbbcf8a8165",
   "metadata": {},
   "outputs": [],
   "source": [
    "# Step 2: Optionally, sample a fraction of the data (e.g., 20% of the data)\n",
    "ratings_df = ratings_df.sample(frac=0.20, random_state=42)"
   ]
  },
  {
   "cell_type": "code",
   "execution_count": 117,
   "id": "273defea-1cc9-4d52-af58-25bf50c23bc3",
   "metadata": {},
   "outputs": [
    {
     "data": {
      "text/plain": [
       "(3734130, 3)"
      ]
     },
     "execution_count": 117,
     "metadata": {},
     "output_type": "execute_result"
    }
   ],
   "source": [
    "ratings_df.shape"
   ]
  },
  {
   "cell_type": "code",
   "execution_count": 118,
   "id": "cc582ed7-cd59-4c8c-8b67-41fe947791a4",
   "metadata": {},
   "outputs": [
    {
     "data": {
      "text/html": [
       "<div>\n",
       "<style scoped>\n",
       "    .dataframe tbody tr th:only-of-type {\n",
       "        vertical-align: middle;\n",
       "    }\n",
       "\n",
       "    .dataframe tbody tr th {\n",
       "        vertical-align: top;\n",
       "    }\n",
       "\n",
       "    .dataframe thead th {\n",
       "        text-align: right;\n",
       "    }\n",
       "</style>\n",
       "<table border=\"1\" class=\"dataframe\">\n",
       "  <thead>\n",
       "    <tr style=\"text-align: right;\">\n",
       "      <th></th>\n",
       "      <th>userId</th>\n",
       "      <th>movieId</th>\n",
       "      <th>rating</th>\n",
       "    </tr>\n",
       "  </thead>\n",
       "  <tbody>\n",
       "    <tr>\n",
       "      <th>11100743</th>\n",
       "      <td>72210</td>\n",
       "      <td>127202</td>\n",
       "      <td>4.0</td>\n",
       "    </tr>\n",
       "  </tbody>\n",
       "</table>\n",
       "</div>"
      ],
      "text/plain": [
       "          userId  movieId  rating\n",
       "11100743   72210   127202     4.0"
      ]
     },
     "execution_count": 118,
     "metadata": {},
     "output_type": "execute_result"
    }
   ],
   "source": [
    "ratings_df.head(1)"
   ]
  },
  {
   "cell_type": "code",
   "execution_count": 119,
   "id": "51da28a3-11e6-4d8d-ad8e-65d550ece099",
   "metadata": {},
   "outputs": [
    {
     "name": "stdout",
     "output_type": "stream",
     "text": [
      "      movieId         title\n",
      "7721     8533  The Notebook\n"
     ]
    }
   ],
   "source": [
    "# Filter the row with movieId 89745\n",
    "movie_row = movies_df[movies_df['movieId'] == 8533]\n",
    "\n",
    "# Display the row\n",
    "print(movie_row)"
   ]
  },
  {
   "cell_type": "code",
   "execution_count": 180,
   "id": "183d1ee6-937d-4f62-8a6b-196b2b24f3dc",
   "metadata": {},
   "outputs": [],
   "source": [
    "# #I noticed that a movie name which should have been The Avenger (2012) is written as Avengers,The (2012) \n",
    "# #hence I am manually changing it and storing it to the original dataset.\n",
    "\n",
    "# # Find the row where movieId is 89745 and update the title\n",
    "# movies_df.loc[movies_df['movieId'] == 89745, 'title'] = 'The Avengers (2012)'\n",
    "\n",
    "# # Save the updated dataframe to the same CSV file\n",
    "# movies_df.to_csv('movies.csv', index=False)"
   ]
  },
  {
   "cell_type": "code",
   "execution_count": 214,
   "id": "12a7f14d-b560-4a3c-b5ba-84d859af862a",
   "metadata": {},
   "outputs": [],
   "source": [
    "links_df=pd.read_csv('links.csv')"
   ]
  },
  {
   "cell_type": "code",
   "execution_count": 216,
   "id": "e8169f89-8a70-4de5-ac92-17a2758e1627",
   "metadata": {},
   "outputs": [
    {
     "data": {
      "text/html": [
       "<div>\n",
       "<style scoped>\n",
       "    .dataframe tbody tr th:only-of-type {\n",
       "        vertical-align: middle;\n",
       "    }\n",
       "\n",
       "    .dataframe tbody tr th {\n",
       "        vertical-align: top;\n",
       "    }\n",
       "\n",
       "    .dataframe thead th {\n",
       "        text-align: right;\n",
       "    }\n",
       "</style>\n",
       "<table border=\"1\" class=\"dataframe\">\n",
       "  <thead>\n",
       "    <tr style=\"text-align: right;\">\n",
       "      <th></th>\n",
       "      <th>movieId</th>\n",
       "      <th>imdbId</th>\n",
       "      <th>tmdbId</th>\n",
       "    </tr>\n",
       "  </thead>\n",
       "  <tbody>\n",
       "    <tr>\n",
       "      <th>0</th>\n",
       "      <td>1</td>\n",
       "      <td>114709</td>\n",
       "      <td>862.0</td>\n",
       "    </tr>\n",
       "  </tbody>\n",
       "</table>\n",
       "</div>"
      ],
      "text/plain": [
       "   movieId  imdbId  tmdbId\n",
       "0        1  114709   862.0"
      ]
     },
     "execution_count": 216,
     "metadata": {},
     "output_type": "execute_result"
    }
   ],
   "source": [
    "links_df.head(1)"
   ]
  },
  {
   "cell_type": "code",
   "execution_count": 218,
   "id": "2edb332b-70f3-491b-9fd4-378815af20e6",
   "metadata": {},
   "outputs": [],
   "source": [
    "# Merge on 'movieId'\n",
    "merged_df = pd.merge(ratings_df, movies_df, on='movieId')"
   ]
  },
  {
   "cell_type": "code",
   "execution_count": 219,
   "id": "e6b844c2-3757-4d6f-a437-dbc120a1f63e",
   "metadata": {},
   "outputs": [],
   "source": [
    "movie_links_merged = pd.merge(merged_df, links_df, on='movieId', how='left')"
   ]
  },
  {
   "cell_type": "code",
   "execution_count": 137,
   "id": "fd5812be-b158-462e-a002-da99ec16b8be",
   "metadata": {},
   "outputs": [
    {
     "data": {
      "text/html": [
       "<div>\n",
       "<style scoped>\n",
       "    .dataframe tbody tr th:only-of-type {\n",
       "        vertical-align: middle;\n",
       "    }\n",
       "\n",
       "    .dataframe tbody tr th {\n",
       "        vertical-align: top;\n",
       "    }\n",
       "\n",
       "    .dataframe thead th {\n",
       "        text-align: right;\n",
       "    }\n",
       "</style>\n",
       "<table border=\"1\" class=\"dataframe\">\n",
       "  <thead>\n",
       "    <tr style=\"text-align: right;\">\n",
       "      <th></th>\n",
       "      <th>movieId</th>\n",
       "      <th>title</th>\n",
       "    </tr>\n",
       "  </thead>\n",
       "  <tbody>\n",
       "    <tr>\n",
       "      <th>0</th>\n",
       "      <td>1</td>\n",
       "      <td>Toy Story</td>\n",
       "    </tr>\n",
       "  </tbody>\n",
       "</table>\n",
       "</div>"
      ],
      "text/plain": [
       "   movieId      title\n",
       "0        1  Toy Story"
      ]
     },
     "execution_count": 137,
     "metadata": {},
     "output_type": "execute_result"
    }
   ],
   "source": [
    "movies_df.head(1)"
   ]
  },
  {
   "cell_type": "code",
   "execution_count": 228,
   "id": "54802f56-a5e4-46be-a0fb-15d64b0e18c7",
   "metadata": {},
   "outputs": [],
   "source": [
    "# # Creating a shallow copy of df\n",
    "# df_copy = df.copy()\n",
    "\n",
    "# df_copy.rename(columns={'id': 'tmdbId'}, inplace=True)\n",
    "\n",
    "# # Merge on tmdbId from step1 and id from tmdb\n",
    "# Hybrid_df = pd.merge(movie_links_merged, df_copy, on='tmdbId', how='left')"
   ]
  },
  {
   "cell_type": "code",
   "execution_count": null,
   "id": "a5e79df6-0d38-4793-867c-3af7cf63aa67",
   "metadata": {},
   "outputs": [],
   "source": [
    "# Hybrid_df.head(5)"
   ]
  },
  {
   "cell_type": "code",
   "execution_count": 241,
   "id": "9ea60ad9-680d-4f86-b6b7-577ffcecdbaa",
   "metadata": {},
   "outputs": [],
   "source": [
    "# final_hybrid_df = Hybrid_df[[\n",
    "#     'userId', 'movieId', 'rating', 'title_y', 'tmdbId', \n",
    "#     'overview', 'genres', 'directors', 'cast', 'writers', 'production_companies', 'tagline',\n",
    "#     'vote_average', 'vote_count', 'runtime', 'adult', 'release_date', 'poster_path'\n",
    "# ]]\n",
    "\n",
    "# # Optional: rename columns for clarity\n",
    "# final_hybrid_df = final_hybrid_df.rename(columns={\n",
    "#     'title_y': 'title'\n",
    "# })"
   ]
  },
  {
   "cell_type": "code",
   "execution_count": 140,
   "id": "780dfd4c-4e64-47ff-acb6-8015a5172b34",
   "metadata": {},
   "outputs": [
    {
     "data": {
      "text/html": [
       "<div>\n",
       "<style scoped>\n",
       "    .dataframe tbody tr th:only-of-type {\n",
       "        vertical-align: middle;\n",
       "    }\n",
       "\n",
       "    .dataframe tbody tr th {\n",
       "        vertical-align: top;\n",
       "    }\n",
       "\n",
       "    .dataframe thead th {\n",
       "        text-align: right;\n",
       "    }\n",
       "</style>\n",
       "<table border=\"1\" class=\"dataframe\">\n",
       "  <thead>\n",
       "    <tr style=\"text-align: right;\">\n",
       "      <th></th>\n",
       "      <th>userId</th>\n",
       "      <th>movieId</th>\n",
       "      <th>rating</th>\n",
       "    </tr>\n",
       "  </thead>\n",
       "  <tbody>\n",
       "    <tr>\n",
       "      <th>11100743</th>\n",
       "      <td>72210</td>\n",
       "      <td>127202</td>\n",
       "      <td>4.0</td>\n",
       "    </tr>\n",
       "  </tbody>\n",
       "</table>\n",
       "</div>"
      ],
      "text/plain": [
       "          userId  movieId  rating\n",
       "11100743   72210   127202     4.0"
      ]
     },
     "execution_count": 140,
     "metadata": {},
     "output_type": "execute_result"
    }
   ],
   "source": [
    "ratings_df.head(1)"
   ]
  },
  {
   "cell_type": "code",
   "execution_count": 142,
   "id": "19611742-26c6-4500-8c8f-d6261291e419",
   "metadata": {},
   "outputs": [
    {
     "data": {
      "text/html": [
       "<div>\n",
       "<style scoped>\n",
       "    .dataframe tbody tr th:only-of-type {\n",
       "        vertical-align: middle;\n",
       "    }\n",
       "\n",
       "    .dataframe tbody tr th {\n",
       "        vertical-align: top;\n",
       "    }\n",
       "\n",
       "    .dataframe thead th {\n",
       "        text-align: right;\n",
       "    }\n",
       "</style>\n",
       "<table border=\"1\" class=\"dataframe\">\n",
       "  <thead>\n",
       "    <tr style=\"text-align: right;\">\n",
       "      <th></th>\n",
       "      <th>userId</th>\n",
       "      <th>movieId</th>\n",
       "      <th>rating</th>\n",
       "      <th>title</th>\n",
       "    </tr>\n",
       "  </thead>\n",
       "  <tbody>\n",
       "    <tr>\n",
       "      <th>0</th>\n",
       "      <td>72210</td>\n",
       "      <td>127202</td>\n",
       "      <td>4.0</td>\n",
       "      <td>Me and Earl and the Dying Girl</td>\n",
       "    </tr>\n",
       "  </tbody>\n",
       "</table>\n",
       "</div>"
      ],
      "text/plain": [
       "   userId  movieId  rating                           title\n",
       "0   72210   127202     4.0  Me and Earl and the Dying Girl"
      ]
     },
     "execution_count": 142,
     "metadata": {},
     "output_type": "execute_result"
    }
   ],
   "source": [
    "final_hybrid_df.head(1)"
   ]
  },
  {
   "cell_type": "code",
   "execution_count": 255,
   "id": "29c42c9b-f25c-4f92-9852-2f5efcc4e765",
   "metadata": {},
   "outputs": [],
   "source": [
    "merged_df.sort_values(by=['userId', 'rating'], ascending=[True, True], inplace=True)"
   ]
  },
  {
   "cell_type": "code",
   "execution_count": 253,
   "id": "6b2672a7-22c1-4d80-9e11-3cce4deb21d5",
   "metadata": {},
   "outputs": [
    {
     "data": {
      "text/html": [
       "<div>\n",
       "<style scoped>\n",
       "    .dataframe tbody tr th:only-of-type {\n",
       "        vertical-align: middle;\n",
       "    }\n",
       "\n",
       "    .dataframe tbody tr th {\n",
       "        vertical-align: top;\n",
       "    }\n",
       "\n",
       "    .dataframe thead th {\n",
       "        text-align: right;\n",
       "    }\n",
       "</style>\n",
       "<table border=\"1\" class=\"dataframe\">\n",
       "  <thead>\n",
       "    <tr style=\"text-align: right;\">\n",
       "      <th></th>\n",
       "      <th>userId</th>\n",
       "      <th>movieId</th>\n",
       "      <th>rating</th>\n",
       "      <th>title</th>\n",
       "    </tr>\n",
       "  </thead>\n",
       "  <tbody>\n",
       "    <tr>\n",
       "      <th>0</th>\n",
       "      <td>72210</td>\n",
       "      <td>127202</td>\n",
       "      <td>4.0</td>\n",
       "      <td>Me and Earl and the Dying Girl</td>\n",
       "    </tr>\n",
       "    <tr>\n",
       "      <th>1</th>\n",
       "      <td>60065</td>\n",
       "      <td>6947</td>\n",
       "      <td>4.5</td>\n",
       "      <td>Master and Commander: The Far Side of the World</td>\n",
       "    </tr>\n",
       "    <tr>\n",
       "      <th>2</th>\n",
       "      <td>72263</td>\n",
       "      <td>68954</td>\n",
       "      <td>3.0</td>\n",
       "      <td>Up</td>\n",
       "    </tr>\n",
       "    <tr>\n",
       "      <th>3</th>\n",
       "      <td>6908</td>\n",
       "      <td>500</td>\n",
       "      <td>4.0</td>\n",
       "      <td>Mrs. Doubtfire</td>\n",
       "    </tr>\n",
       "    <tr>\n",
       "      <th>4</th>\n",
       "      <td>56132</td>\n",
       "      <td>2194</td>\n",
       "      <td>4.0</td>\n",
       "      <td>The Untouchables</td>\n",
       "    </tr>\n",
       "  </tbody>\n",
       "</table>\n",
       "</div>"
      ],
      "text/plain": [
       "   userId  movieId  rating                                            title\n",
       "0   72210   127202     4.0                   Me and Earl and the Dying Girl\n",
       "1   60065     6947     4.5  Master and Commander: The Far Side of the World\n",
       "2   72263    68954     3.0                                               Up\n",
       "3    6908      500     4.0                                   Mrs. Doubtfire\n",
       "4   56132     2194     4.0                                 The Untouchables"
      ]
     },
     "execution_count": 253,
     "metadata": {},
     "output_type": "execute_result"
    }
   ],
   "source": [
    "merged_df.head(5)"
   ]
  },
  {
   "cell_type": "code",
   "execution_count": 285,
   "id": "f6b6f836-3aec-44f4-b2fe-ee312224c186",
   "metadata": {},
   "outputs": [
    {
     "data": {
      "text/html": [
       "<div>\n",
       "<style scoped>\n",
       "    .dataframe tbody tr th:only-of-type {\n",
       "        vertical-align: middle;\n",
       "    }\n",
       "\n",
       "    .dataframe tbody tr th {\n",
       "        vertical-align: top;\n",
       "    }\n",
       "\n",
       "    .dataframe thead th {\n",
       "        text-align: right;\n",
       "    }\n",
       "</style>\n",
       "<table border=\"1\" class=\"dataframe\">\n",
       "  <thead>\n",
       "    <tr style=\"text-align: right;\">\n",
       "      <th></th>\n",
       "      <th>userId</th>\n",
       "      <th>movieId</th>\n",
       "      <th>rating</th>\n",
       "      <th>title</th>\n",
       "    </tr>\n",
       "  </thead>\n",
       "  <tbody>\n",
       "    <tr>\n",
       "      <th>1964379</th>\n",
       "      <td>2</td>\n",
       "      <td>1923</td>\n",
       "      <td>0.5</td>\n",
       "      <td>There's Something About Mary</td>\n",
       "    </tr>\n",
       "    <tr>\n",
       "      <th>2503336</th>\n",
       "      <td>2</td>\n",
       "      <td>2720</td>\n",
       "      <td>0.5</td>\n",
       "      <td>Inspector Gadget</td>\n",
       "    </tr>\n",
       "    <tr>\n",
       "      <th>1176722</th>\n",
       "      <td>2</td>\n",
       "      <td>2797</td>\n",
       "      <td>1.0</td>\n",
       "      <td>Big</td>\n",
       "    </tr>\n",
       "    <tr>\n",
       "      <th>2964544</th>\n",
       "      <td>2</td>\n",
       "      <td>1035</td>\n",
       "      <td>1.0</td>\n",
       "      <td>The Sound of Music</td>\n",
       "    </tr>\n",
       "    <tr>\n",
       "      <th>606078</th>\n",
       "      <td>2</td>\n",
       "      <td>4571</td>\n",
       "      <td>1.5</td>\n",
       "      <td>Bill &amp; Ted's Excellent Adventure</td>\n",
       "    </tr>\n",
       "  </tbody>\n",
       "</table>\n",
       "</div>"
      ],
      "text/plain": [
       "         userId  movieId  rating                             title\n",
       "1964379       2     1923     0.5      There's Something About Mary\n",
       "2503336       2     2720     0.5                  Inspector Gadget\n",
       "1176722       2     2797     1.0                               Big\n",
       "2964544       2     1035     1.0                The Sound of Music\n",
       "606078        2     4571     1.5  Bill & Ted's Excellent Adventure"
      ]
     },
     "execution_count": 285,
     "metadata": {},
     "output_type": "execute_result"
    }
   ],
   "source": [
    "# Remove duplicates based on all columns\n",
    "merged_df = merged_df.drop_duplicates()\n",
    "\n",
    "# If you want to remove duplicates based on specific columns (e.g., userId and movieId)\n",
    "# merged_df_no_duplicates = merged_df.drop_duplicates(subset=['userId', 'movieId'])\n",
    "\n",
    "# Preview the first few rows\n",
    "merged_df.head()"
   ]
  },
  {
   "cell_type": "code",
   "execution_count": 147,
   "id": "0d18cf74-2a15-43f7-850d-f0da7d2c1e79",
   "metadata": {},
   "outputs": [
    {
     "data": {
      "text/plain": [
       "(3639606, 4)"
      ]
     },
     "execution_count": 147,
     "metadata": {},
     "output_type": "execute_result"
    }
   ],
   "source": [
    "merged_df.shape"
   ]
  },
  {
   "cell_type": "code",
   "execution_count": 259,
   "id": "fe225c3b-d8c3-485d-beab-627606269739",
   "metadata": {},
   "outputs": [],
   "source": [
    "from scipy.sparse import csr_matrix\n",
    "\n",
    "movie_user_mat_sparse = csr_matrix((merged_df['ratiZng'], (merged_df['movieId'], merged_df['userId'])))"
   ]
  },
  {
   "cell_type": "code",
   "execution_count": 261,
   "id": "6ad25963-8dba-41a1-bb1c-6c5bcb71fd1c",
   "metadata": {},
   "outputs": [
    {
     "data": {
      "text/html": [
       "<style>#sk-container-id-2 {\n",
       "  /* Definition of color scheme common for light and dark mode */\n",
       "  --sklearn-color-text: black;\n",
       "  --sklearn-color-line: gray;\n",
       "  /* Definition of color scheme for unfitted estimators */\n",
       "  --sklearn-color-unfitted-level-0: #fff5e6;\n",
       "  --sklearn-color-unfitted-level-1: #f6e4d2;\n",
       "  --sklearn-color-unfitted-level-2: #ffe0b3;\n",
       "  --sklearn-color-unfitted-level-3: chocolate;\n",
       "  /* Definition of color scheme for fitted estimators */\n",
       "  --sklearn-color-fitted-level-0: #f0f8ff;\n",
       "  --sklearn-color-fitted-level-1: #d4ebff;\n",
       "  --sklearn-color-fitted-level-2: #b3dbfd;\n",
       "  --sklearn-color-fitted-level-3: cornflowerblue;\n",
       "\n",
       "  /* Specific color for light theme */\n",
       "  --sklearn-color-text-on-default-background: var(--sg-text-color, var(--theme-code-foreground, var(--jp-content-font-color1, black)));\n",
       "  --sklearn-color-background: var(--sg-background-color, var(--theme-background, var(--jp-layout-color0, white)));\n",
       "  --sklearn-color-border-box: var(--sg-text-color, var(--theme-code-foreground, var(--jp-content-font-color1, black)));\n",
       "  --sklearn-color-icon: #696969;\n",
       "\n",
       "  @media (prefers-color-scheme: dark) {\n",
       "    /* Redefinition of color scheme for dark theme */\n",
       "    --sklearn-color-text-on-default-background: var(--sg-text-color, var(--theme-code-foreground, var(--jp-content-font-color1, white)));\n",
       "    --sklearn-color-background: var(--sg-background-color, var(--theme-background, var(--jp-layout-color0, #111)));\n",
       "    --sklearn-color-border-box: var(--sg-text-color, var(--theme-code-foreground, var(--jp-content-font-color1, white)));\n",
       "    --sklearn-color-icon: #878787;\n",
       "  }\n",
       "}\n",
       "\n",
       "#sk-container-id-2 {\n",
       "  color: var(--sklearn-color-text);\n",
       "}\n",
       "\n",
       "#sk-container-id-2 pre {\n",
       "  padding: 0;\n",
       "}\n",
       "\n",
       "#sk-container-id-2 input.sk-hidden--visually {\n",
       "  border: 0;\n",
       "  clip: rect(1px 1px 1px 1px);\n",
       "  clip: rect(1px, 1px, 1px, 1px);\n",
       "  height: 1px;\n",
       "  margin: -1px;\n",
       "  overflow: hidden;\n",
       "  padding: 0;\n",
       "  position: absolute;\n",
       "  width: 1px;\n",
       "}\n",
       "\n",
       "#sk-container-id-2 div.sk-dashed-wrapped {\n",
       "  border: 1px dashed var(--sklearn-color-line);\n",
       "  margin: 0 0.4em 0.5em 0.4em;\n",
       "  box-sizing: border-box;\n",
       "  padding-bottom: 0.4em;\n",
       "  background-color: var(--sklearn-color-background);\n",
       "}\n",
       "\n",
       "#sk-container-id-2 div.sk-container {\n",
       "  /* jupyter's `normalize.less` sets `[hidden] { display: none; }`\n",
       "     but bootstrap.min.css set `[hidden] { display: none !important; }`\n",
       "     so we also need the `!important` here to be able to override the\n",
       "     default hidden behavior on the sphinx rendered scikit-learn.org.\n",
       "     See: https://github.com/scikit-learn/scikit-learn/issues/21755 */\n",
       "  display: inline-block !important;\n",
       "  position: relative;\n",
       "}\n",
       "\n",
       "#sk-container-id-2 div.sk-text-repr-fallback {\n",
       "  display: none;\n",
       "}\n",
       "\n",
       "div.sk-parallel-item,\n",
       "div.sk-serial,\n",
       "div.sk-item {\n",
       "  /* draw centered vertical line to link estimators */\n",
       "  background-image: linear-gradient(var(--sklearn-color-text-on-default-background), var(--sklearn-color-text-on-default-background));\n",
       "  background-size: 2px 100%;\n",
       "  background-repeat: no-repeat;\n",
       "  background-position: center center;\n",
       "}\n",
       "\n",
       "/* Parallel-specific style estimator block */\n",
       "\n",
       "#sk-container-id-2 div.sk-parallel-item::after {\n",
       "  content: \"\";\n",
       "  width: 100%;\n",
       "  border-bottom: 2px solid var(--sklearn-color-text-on-default-background);\n",
       "  flex-grow: 1;\n",
       "}\n",
       "\n",
       "#sk-container-id-2 div.sk-parallel {\n",
       "  display: flex;\n",
       "  align-items: stretch;\n",
       "  justify-content: center;\n",
       "  background-color: var(--sklearn-color-background);\n",
       "  position: relative;\n",
       "}\n",
       "\n",
       "#sk-container-id-2 div.sk-parallel-item {\n",
       "  display: flex;\n",
       "  flex-direction: column;\n",
       "}\n",
       "\n",
       "#sk-container-id-2 div.sk-parallel-item:first-child::after {\n",
       "  align-self: flex-end;\n",
       "  width: 50%;\n",
       "}\n",
       "\n",
       "#sk-container-id-2 div.sk-parallel-item:last-child::after {\n",
       "  align-self: flex-start;\n",
       "  width: 50%;\n",
       "}\n",
       "\n",
       "#sk-container-id-2 div.sk-parallel-item:only-child::after {\n",
       "  width: 0;\n",
       "}\n",
       "\n",
       "/* Serial-specific style estimator block */\n",
       "\n",
       "#sk-container-id-2 div.sk-serial {\n",
       "  display: flex;\n",
       "  flex-direction: column;\n",
       "  align-items: center;\n",
       "  background-color: var(--sklearn-color-background);\n",
       "  padding-right: 1em;\n",
       "  padding-left: 1em;\n",
       "}\n",
       "\n",
       "\n",
       "/* Toggleable style: style used for estimator/Pipeline/ColumnTransformer box that is\n",
       "clickable and can be expanded/collapsed.\n",
       "- Pipeline and ColumnTransformer use this feature and define the default style\n",
       "- Estimators will overwrite some part of the style using the `sk-estimator` class\n",
       "*/\n",
       "\n",
       "/* Pipeline and ColumnTransformer style (default) */\n",
       "\n",
       "#sk-container-id-2 div.sk-toggleable {\n",
       "  /* Default theme specific background. It is overwritten whether we have a\n",
       "  specific estimator or a Pipeline/ColumnTransformer */\n",
       "  background-color: var(--sklearn-color-background);\n",
       "}\n",
       "\n",
       "/* Toggleable label */\n",
       "#sk-container-id-2 label.sk-toggleable__label {\n",
       "  cursor: pointer;\n",
       "  display: block;\n",
       "  width: 100%;\n",
       "  margin-bottom: 0;\n",
       "  padding: 0.5em;\n",
       "  box-sizing: border-box;\n",
       "  text-align: center;\n",
       "}\n",
       "\n",
       "#sk-container-id-2 label.sk-toggleable__label-arrow:before {\n",
       "  /* Arrow on the left of the label */\n",
       "  content: \"▸\";\n",
       "  float: left;\n",
       "  margin-right: 0.25em;\n",
       "  color: var(--sklearn-color-icon);\n",
       "}\n",
       "\n",
       "#sk-container-id-2 label.sk-toggleable__label-arrow:hover:before {\n",
       "  color: var(--sklearn-color-text);\n",
       "}\n",
       "\n",
       "/* Toggleable content - dropdown */\n",
       "\n",
       "#sk-container-id-2 div.sk-toggleable__content {\n",
       "  max-height: 0;\n",
       "  max-width: 0;\n",
       "  overflow: hidden;\n",
       "  text-align: left;\n",
       "  /* unfitted */\n",
       "  background-color: var(--sklearn-color-unfitted-level-0);\n",
       "}\n",
       "\n",
       "#sk-container-id-2 div.sk-toggleable__content.fitted {\n",
       "  /* fitted */\n",
       "  background-color: var(--sklearn-color-fitted-level-0);\n",
       "}\n",
       "\n",
       "#sk-container-id-2 div.sk-toggleable__content pre {\n",
       "  margin: 0.2em;\n",
       "  border-radius: 0.25em;\n",
       "  color: var(--sklearn-color-text);\n",
       "  /* unfitted */\n",
       "  background-color: var(--sklearn-color-unfitted-level-0);\n",
       "}\n",
       "\n",
       "#sk-container-id-2 div.sk-toggleable__content.fitted pre {\n",
       "  /* unfitted */\n",
       "  background-color: var(--sklearn-color-fitted-level-0);\n",
       "}\n",
       "\n",
       "#sk-container-id-2 input.sk-toggleable__control:checked~div.sk-toggleable__content {\n",
       "  /* Expand drop-down */\n",
       "  max-height: 200px;\n",
       "  max-width: 100%;\n",
       "  overflow: auto;\n",
       "}\n",
       "\n",
       "#sk-container-id-2 input.sk-toggleable__control:checked~label.sk-toggleable__label-arrow:before {\n",
       "  content: \"▾\";\n",
       "}\n",
       "\n",
       "/* Pipeline/ColumnTransformer-specific style */\n",
       "\n",
       "#sk-container-id-2 div.sk-label input.sk-toggleable__control:checked~label.sk-toggleable__label {\n",
       "  color: var(--sklearn-color-text);\n",
       "  background-color: var(--sklearn-color-unfitted-level-2);\n",
       "}\n",
       "\n",
       "#sk-container-id-2 div.sk-label.fitted input.sk-toggleable__control:checked~label.sk-toggleable__label {\n",
       "  background-color: var(--sklearn-color-fitted-level-2);\n",
       "}\n",
       "\n",
       "/* Estimator-specific style */\n",
       "\n",
       "/* Colorize estimator box */\n",
       "#sk-container-id-2 div.sk-estimator input.sk-toggleable__control:checked~label.sk-toggleable__label {\n",
       "  /* unfitted */\n",
       "  background-color: var(--sklearn-color-unfitted-level-2);\n",
       "}\n",
       "\n",
       "#sk-container-id-2 div.sk-estimator.fitted input.sk-toggleable__control:checked~label.sk-toggleable__label {\n",
       "  /* fitted */\n",
       "  background-color: var(--sklearn-color-fitted-level-2);\n",
       "}\n",
       "\n",
       "#sk-container-id-2 div.sk-label label.sk-toggleable__label,\n",
       "#sk-container-id-2 div.sk-label label {\n",
       "  /* The background is the default theme color */\n",
       "  color: var(--sklearn-color-text-on-default-background);\n",
       "}\n",
       "\n",
       "/* On hover, darken the color of the background */\n",
       "#sk-container-id-2 div.sk-label:hover label.sk-toggleable__label {\n",
       "  color: var(--sklearn-color-text);\n",
       "  background-color: var(--sklearn-color-unfitted-level-2);\n",
       "}\n",
       "\n",
       "/* Label box, darken color on hover, fitted */\n",
       "#sk-container-id-2 div.sk-label.fitted:hover label.sk-toggleable__label.fitted {\n",
       "  color: var(--sklearn-color-text);\n",
       "  background-color: var(--sklearn-color-fitted-level-2);\n",
       "}\n",
       "\n",
       "/* Estimator label */\n",
       "\n",
       "#sk-container-id-2 div.sk-label label {\n",
       "  font-family: monospace;\n",
       "  font-weight: bold;\n",
       "  display: inline-block;\n",
       "  line-height: 1.2em;\n",
       "}\n",
       "\n",
       "#sk-container-id-2 div.sk-label-container {\n",
       "  text-align: center;\n",
       "}\n",
       "\n",
       "/* Estimator-specific */\n",
       "#sk-container-id-2 div.sk-estimator {\n",
       "  font-family: monospace;\n",
       "  border: 1px dotted var(--sklearn-color-border-box);\n",
       "  border-radius: 0.25em;\n",
       "  box-sizing: border-box;\n",
       "  margin-bottom: 0.5em;\n",
       "  /* unfitted */\n",
       "  background-color: var(--sklearn-color-unfitted-level-0);\n",
       "}\n",
       "\n",
       "#sk-container-id-2 div.sk-estimator.fitted {\n",
       "  /* fitted */\n",
       "  background-color: var(--sklearn-color-fitted-level-0);\n",
       "}\n",
       "\n",
       "/* on hover */\n",
       "#sk-container-id-2 div.sk-estimator:hover {\n",
       "  /* unfitted */\n",
       "  background-color: var(--sklearn-color-unfitted-level-2);\n",
       "}\n",
       "\n",
       "#sk-container-id-2 div.sk-estimator.fitted:hover {\n",
       "  /* fitted */\n",
       "  background-color: var(--sklearn-color-fitted-level-2);\n",
       "}\n",
       "\n",
       "/* Specification for estimator info (e.g. \"i\" and \"?\") */\n",
       "\n",
       "/* Common style for \"i\" and \"?\" */\n",
       "\n",
       ".sk-estimator-doc-link,\n",
       "a:link.sk-estimator-doc-link,\n",
       "a:visited.sk-estimator-doc-link {\n",
       "  float: right;\n",
       "  font-size: smaller;\n",
       "  line-height: 1em;\n",
       "  font-family: monospace;\n",
       "  background-color: var(--sklearn-color-background);\n",
       "  border-radius: 1em;\n",
       "  height: 1em;\n",
       "  width: 1em;\n",
       "  text-decoration: none !important;\n",
       "  margin-left: 1ex;\n",
       "  /* unfitted */\n",
       "  border: var(--sklearn-color-unfitted-level-1) 1pt solid;\n",
       "  color: var(--sklearn-color-unfitted-level-1);\n",
       "}\n",
       "\n",
       ".sk-estimator-doc-link.fitted,\n",
       "a:link.sk-estimator-doc-link.fitted,\n",
       "a:visited.sk-estimator-doc-link.fitted {\n",
       "  /* fitted */\n",
       "  border: var(--sklearn-color-fitted-level-1) 1pt solid;\n",
       "  color: var(--sklearn-color-fitted-level-1);\n",
       "}\n",
       "\n",
       "/* On hover */\n",
       "div.sk-estimator:hover .sk-estimator-doc-link:hover,\n",
       ".sk-estimator-doc-link:hover,\n",
       "div.sk-label-container:hover .sk-estimator-doc-link:hover,\n",
       ".sk-estimator-doc-link:hover {\n",
       "  /* unfitted */\n",
       "  background-color: var(--sklearn-color-unfitted-level-3);\n",
       "  color: var(--sklearn-color-background);\n",
       "  text-decoration: none;\n",
       "}\n",
       "\n",
       "div.sk-estimator.fitted:hover .sk-estimator-doc-link.fitted:hover,\n",
       ".sk-estimator-doc-link.fitted:hover,\n",
       "div.sk-label-container:hover .sk-estimator-doc-link.fitted:hover,\n",
       ".sk-estimator-doc-link.fitted:hover {\n",
       "  /* fitted */\n",
       "  background-color: var(--sklearn-color-fitted-level-3);\n",
       "  color: var(--sklearn-color-background);\n",
       "  text-decoration: none;\n",
       "}\n",
       "\n",
       "/* Span, style for the box shown on hovering the info icon */\n",
       ".sk-estimator-doc-link span {\n",
       "  display: none;\n",
       "  z-index: 9999;\n",
       "  position: relative;\n",
       "  font-weight: normal;\n",
       "  right: .2ex;\n",
       "  padding: .5ex;\n",
       "  margin: .5ex;\n",
       "  width: min-content;\n",
       "  min-width: 20ex;\n",
       "  max-width: 50ex;\n",
       "  color: var(--sklearn-color-text);\n",
       "  box-shadow: 2pt 2pt 4pt #999;\n",
       "  /* unfitted */\n",
       "  background: var(--sklearn-color-unfitted-level-0);\n",
       "  border: .5pt solid var(--sklearn-color-unfitted-level-3);\n",
       "}\n",
       "\n",
       ".sk-estimator-doc-link.fitted span {\n",
       "  /* fitted */\n",
       "  background: var(--sklearn-color-fitted-level-0);\n",
       "  border: var(--sklearn-color-fitted-level-3);\n",
       "}\n",
       "\n",
       ".sk-estimator-doc-link:hover span {\n",
       "  display: block;\n",
       "}\n",
       "\n",
       "/* \"?\"-specific style due to the `<a>` HTML tag */\n",
       "\n",
       "#sk-container-id-2 a.estimator_doc_link {\n",
       "  float: right;\n",
       "  font-size: 1rem;\n",
       "  line-height: 1em;\n",
       "  font-family: monospace;\n",
       "  background-color: var(--sklearn-color-background);\n",
       "  border-radius: 1rem;\n",
       "  height: 1rem;\n",
       "  width: 1rem;\n",
       "  text-decoration: none;\n",
       "  /* unfitted */\n",
       "  color: var(--sklearn-color-unfitted-level-1);\n",
       "  border: var(--sklearn-color-unfitted-level-1) 1pt solid;\n",
       "}\n",
       "\n",
       "#sk-container-id-2 a.estimator_doc_link.fitted {\n",
       "  /* fitted */\n",
       "  border: var(--sklearn-color-fitted-level-1) 1pt solid;\n",
       "  color: var(--sklearn-color-fitted-level-1);\n",
       "}\n",
       "\n",
       "/* On hover */\n",
       "#sk-container-id-2 a.estimator_doc_link:hover {\n",
       "  /* unfitted */\n",
       "  background-color: var(--sklearn-color-unfitted-level-3);\n",
       "  color: var(--sklearn-color-background);\n",
       "  text-decoration: none;\n",
       "}\n",
       "\n",
       "#sk-container-id-2 a.estimator_doc_link.fitted:hover {\n",
       "  /* fitted */\n",
       "  background-color: var(--sklearn-color-fitted-level-3);\n",
       "}\n",
       "</style><div id=\"sk-container-id-2\" class=\"sk-top-container\"><div class=\"sk-text-repr-fallback\"><pre>NearestNeighbors(algorithm=&#x27;brute&#x27;, metric=&#x27;cosine&#x27;)</pre><b>In a Jupyter environment, please rerun this cell to show the HTML representation or trust the notebook. <br />On GitHub, the HTML representation is unable to render, please try loading this page with nbviewer.org.</b></div><div class=\"sk-container\" hidden><div class=\"sk-item\"><div class=\"sk-estimator fitted sk-toggleable\"><input class=\"sk-toggleable__control sk-hidden--visually\" id=\"sk-estimator-id-2\" type=\"checkbox\" checked><label for=\"sk-estimator-id-2\" class=\"sk-toggleable__label fitted sk-toggleable__label-arrow fitted\">&nbsp;&nbsp;NearestNeighbors<a class=\"sk-estimator-doc-link fitted\" rel=\"noreferrer\" target=\"_blank\" href=\"https://scikit-learn.org/1.4/modules/generated/sklearn.neighbors.NearestNeighbors.html\">?<span>Documentation for NearestNeighbors</span></a><span class=\"sk-estimator-doc-link fitted\">i<span>Fitted</span></span></label><div class=\"sk-toggleable__content fitted\"><pre>NearestNeighbors(algorithm=&#x27;brute&#x27;, metric=&#x27;cosine&#x27;)</pre></div> </div></div></div></div>"
      ],
      "text/plain": [
       "NearestNeighbors(algorithm='brute', metric='cosine')"
      ]
     },
     "execution_count": 261,
     "metadata": {},
     "output_type": "execute_result"
    }
   ],
   "source": [
    "model_knn = NearestNeighbors(metric='cosine', algorithm='brute')\n",
    "model_knn.fit(movie_user_mat_sparse)"
   ]
  },
  {
   "cell_type": "code",
   "execution_count": 263,
   "id": "57faee30-aabb-4791-a59a-645475d90c1c",
   "metadata": {},
   "outputs": [],
   "source": [
    "#Step 5: Create a mapping of movie titles to indices\n",
    "# Create a dictionary to map movie titles to their movieId\n",
    "movie_to_idx = pd.Series(merged_df.movieId.values, index=merged_df.title).drop_duplicates()"
   ]
  },
  {
   "cell_type": "code",
   "execution_count": 265,
   "id": "be2a101a-ab84-49a8-94f3-993316d2f801",
   "metadata": {},
   "outputs": [],
   "source": [
    "#Step 6: Define a fuzzy matching function to get the closest movie title match\n",
    "# Define fuzzy matching function\n",
    "def fuzzy_matching(mapper, fav_movie):\n",
    "    match = process.extractOne(fav_movie, mapper.index)\n",
    "    if match:\n",
    "        return mapper[match[0]]\n",
    "    else:\n",
    "        return None"
   ]
  },
  {
   "cell_type": "code",
   "execution_count": 267,
   "id": "50e27e6a-aacb-4644-abf7-b43c60e7c07f",
   "metadata": {},
   "outputs": [],
   "source": [
    "# Function to clean up collaborative filtering output from merged_df\n",
    "def clean_collaborative_output(merged_df):\n",
    "    # Keep only title column and add a reason column\n",
    "    merged_df = merged_df[['title']Z].copy()\n",
    "    merged_df['reason'] = 'Collaborative Filtering'\n",
    "    return merged_df"
   ]
  },
  {
   "cell_type": "code",
   "execution_count": 275,
   "id": "0e1b308d-77b4-4900-aeb1-9abcc850a17f",
   "metadata": {},
   "outputs": [],
   "source": [
    "#Step 7: Make Recommendations\n",
    "# Define the collaborative recommendation function\n",
    "def get_collaborative_recommendations(model_knn, data, mapper, fav_movie, n_recommendations):\n",
    "    idx = fuzzy_matching(mapper, fav_movie)\n",
    "    if idx is None:Z\n",
    "        return pd.DataFrame(columns=['title', 'reason'])\n",
    "\n",
    "    distances, indices = model_knn.kneighbors(data[idx], n_neighbors=n_recommendations + 1)\n",
    "    \n",
    "    reverse_mapper = {v: k for k, v in mapper.items()}\n",
    "    \n",
    "    recommendations = []\n",
    "    for i in range(1, len(distances.flatten())):  # skip the first item (itself)\n",
    "        movie_id = indices.flatten()[i]\n",
    "        movie_title = reverse_mapper.get(movie_id)\n",
    "        if movie_title:\n",
    "            cleaned_title = clean_movie_title(movie_title)\n",
    "            recommendations.append({'title': cleaned_title, 'reason': 'Others also watched these'})\n",
    "\n",
    "    # Convert recommendations to DataFrame and return\n",
    "    return pd.DataFrame(recommendations)"
   ]
  },
  {
   "cell_type": "code",
   "execution_count": 279,
   "id": "68f1953d-c432-47ad-805e-1381b33cb860",
   "metadata": {},
   "outputs": [
    {
     "name": "stdout",
     "output_type": "stream",
     "text": [
      "                         title                      reason\n",
      "               Sherlock Holmes   Others also watched these\n",
      "Pirates of the Caribbean: The Curse of the Black Pearl   Others also watched these\n",
      "Pirates of the Caribbean: At World's End   Others also watched these\n",
      "                        Avatar   Others also watched these\n",
      "                      Watchmen   Others also watched these\n",
      "               The Dark Knight   Others also watched these\n"
     ]
    }
   ],
   "source": [
    "# Sample test\n",
    "query_movie = \"Pride & Prejudice\"  # Your query movie title\n",
    "recommendations = get_collaborative_recommendations(model_knn, movie_user_mat_sparse, movie_to_idx, query_movie, 10)\n",
    "\n",
    "# Set width for the columns for better alignment\n",
    "title_width = 30 # Set the width for the movie titles column\n",
    "reason_width = 20  # Set the width for the reason column\n",
    "\n",
    "# Print headers with the appropriate alignment\n",
    "print(f\"{'title'.rjust(title_width)}        {'reason'.rjust(reason_width)}\")\n",
    "\n",
    "# Print each recommendation\n",
    "for index, row in recommendations.iterrows():\n",
    "    print(f\"{row['title'].rjust(title_width)}   {row['reason'].rjust(reason_width)}\")"
   ]
  },
  {
   "cell_type": "markdown",
   "id": "477e11f6-c40c-451f-b164-7032d7634a62",
   "metadata": {},
   "source": [
    "Forming the final dataset"
   ]
  },
  {
   "cell_type": "code",
   "execution_count": null,
   "id": "f94a121c-7bb7-4cf6-a787-14f5af9d65e0",
   "metadata": {},
   "outputs": [],
   "source": [
    "print(Hybrid_df.columns)"
   ]
  },
  {
   "cell_type": "code",
   "execution_count": null,
   "id": "6f2115c1-b1d7-447a-b5af-012dfbb419b7",
   "metadata": {},
   "outputs": [],
   "source": [
    "final_hybrid_df.shape"
   ]
  },
  {
   "cell_type": "code",
   "execution_count": null,
   "id": "51da7a71-d733-4c5b-b2be-04180e9a4dd7",
   "metadata": {},
   "outputs": [],
   "source": [
    "final_hybrid_df = final_hybrid_df.sample(frac=0.30, random_state=42)"
   ]
  },
  {
   "cell_type": "code",
   "execution_count": null,
   "id": "50dc9b88-4aac-48c5-85ae-cf53cf831bfe",
   "metadata": {},
   "outputs": [],
   "source": [
    "final_hybrid_df.to_csv('hybrid_dataset.csv', index=False)"
   ]
  },
  {
   "cell_type": "markdown",
   "id": "0ab0feb6-3fde-42bc-b6b1-b5f62cf48e00",
   "metadata": {},
   "source": [
    "Hybrid Recommendation"
   ]
  },
  {
   "cell_type": "code",
   "execution_count": 200,
   "id": "83b7bb85-5c92-4de2-9c3a-e81b34c2a0d7",
   "metadata": {},
   "outputs": [],
   "source": [
    "def hybrid_recommendation(title, content_df, tfidf_matrix, indices, model_knn, movie_user_mat_sparse, movie_to_idx, top_n=50):\n",
    "    # --- Content-Based Parts ---\n",
    "    part1 = get_movies_with_same_cast(title, content_df, top_n=10)\n",
    "    part2 = get_movies_by_same_director(title, content_df, top_n=10)\n",
    "    part3 = get_movies_with_similar_genre(title, content_df, top_n=10)\n",
    "    part4 = get_tfidf_similar_movies(title, df, tfidf_matrix, indices, top_n=10)\n",
    "    part5 = get_movies_by_same_writer(title, content_df, top_n=10)\n",
    "    part6 = get_title_similar_movies(title, content_df, top_n=5)\n",
    "\n",
    "    # Combine all content-based recommendations\n",
    "    content_based_df = pd.concat([part1, part2, part3, part4, part5, part6], ignore_index=True)\n",
    "\n",
    "    # --- Collaborative Part ---\n",
    "    collab_df = get_collaborative_recommendations(model_knn, movie_user_mat_sparse, movie_to_idx, title, n_recommendations=10)\n",
    "\n",
    "    # --- Combine both ---\n",
    "    all_recs = pd.concat([content_based_df, collab_df], ignore_index=True)\n",
    "\n",
    "    # --- Clean Up ---\n",
    "    all_recs = all_recs[all_recs['title'].str.lower() != title.lower()]  # remove the queried title\n",
    "    all_recs = all_recs.drop_duplicates(subset='title')  # remove duplicates\n",
    "    final_recs = all_recs.head(top_n)  # take top N\n",
    "\n",
    "    return final_recs"
   ]
  },
  {
   "cell_type": "code",
   "execution_count": 208,
   "id": "68382106-600d-4fad-a171-19a542943fca",
   "metadata": {},
   "outputs": [
    {
     "name": "stdout",
     "output_type": "stream",
     "text": [
      "title                                   reason\n",
      "------------------------------------------------------------\n",
      "Kung Fu Panda Holiday                   Similar Cast\n",
      "Kung Fu Panda 2                         Similar Cast\n",
      "Kung Fu Panda: Secrets of the Scroll    Similar Cast\n",
      "Kung Fu Panda 3                         Similar Cast\n",
      "Kung Fu Panda: Secrets of the Furious FiveSimilar Cast\n",
      "The Super Mario Bros. Movie             Similar Cast\n",
      "The Disaster Artist                     Similar Cast\n",
      "Tinker Bell and the Pirate Fairy        Similar Cast\n",
      "Maleficent                              Similar Cast\n",
      "LEGO DC Comics Super Heroes: Justice League vs. Bizarro LeagueSame Genre\n",
      "Kung Fu Jungle                          Similar Title\n",
      "Iron Man                                Others also watched these\n",
      "Inception                               Others also watched these\n",
      "Sherlock Holmes                         Others also watched these\n",
      "The Incredibles                         Others also watched these\n",
      "WALL·E                                  Others also watched these\n",
      "Madagascar                              Others also watched these\n",
      "Monsters, Inc.                          Others also watched these\n",
      "Despicable Me                           Others also watched these\n",
      "How to Train Your Dragon                Others also watched these\n"
     ]
    }
   ],
   "source": [
    "query = \"Kung Fu PAnda\"\n",
    "final_recommendations = hybrid_recommendation(query, new_df, tfidf_matrix, indices, model_knn, movie_user_mat_sparse, movie_to_idx)\n",
    "\n",
    "# Nicely print the recommendations\n",
    "print(f\"{'title'.ljust(40)}{'reason'}\")\n",
    "print(\"-\" * 60)\n",
    "for index, row in final_recommendations.iterrows():\n",
    "    print(f\"{row['title'].ljust(40)}{row['reason']}\")"
   ]
  },
  {
   "cell_type": "code",
   "execution_count": null,
   "id": "a363b9e6-c0fa-47d3-8742-9ba3d243bc43",
   "metadata": {},
   "outputs": [],
   "source": []
  }
 ],
 "metadata": {
  "kernelspec": {
   "display_name": "Python 3",
   "language": "python",
   "name": "python3"
  },
  "language_info": {
   "codemirror_mode": {
    "name": "ipython",
    "version": 3
   },
   "file_extension": ".py",
   "mimetype": "text/x-python",
   "name": "python",
   "nbconvert_exporter": "python",
   "pygments_lexer": "ipython3",
   "version": "3.13.3"
  }
 },
 "nbformat": 4,
 "nbformat_minor": 5
}
